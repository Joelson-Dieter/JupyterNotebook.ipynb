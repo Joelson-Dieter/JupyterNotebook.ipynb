{
 "cells": [
  {
   "cell_type": "code",
   "execution_count": 8,
   "metadata": {},
   "outputs": [],
   "source": [
    "import requests\n",
    "import pandas as pd\n",
    "from bs4 import BeautifulSoup\n",
    "\n",
    "names_list = []\n",
    "prices_list = []\n",
    "discounts_list = []\n",
    "\n",
    "for i in range (1, 10):\n",
    "  url = \"https://www.flipkart.com/search?q=tshirts&otracker=search&otracker1=search&marketplace=FLIPKART&as-show=on&as=off&page\"+str(i)\n",
    "\n",
    "  response = requests.get(url)\n",
    "  soup = BeautifulSoup (response.text,'lxml')\n",
    "\n",
    "  names = soup.find_all ('div',class_='syl9yP')\n",
    "  for name in names:\n",
    "    names_list.append(name.text.strip())\n",
    "\n",
    "  prices = soup.find_all ('div',class_='Nx9bqj')\n",
    "  for price in prices:\n",
    "    prices_list.append(price.text.strip())\n",
    "\n",
    "  discounts = soup.find_all ('div',class_='UkUFwK')\n",
    "  for discount in discounts:\n",
    "    discounts_list.append(discount.text.strip())\n"
   ]
  },
  {
   "cell_type": "code",
   "execution_count": 9,
   "metadata": {},
   "outputs": [
    {
     "name": "stdout",
     "output_type": "stream",
     "text": [
      "360\n",
      "405\n",
      "402\n"
     ]
    }
   ],
   "source": [
    "print(len(names_list))\n",
    "print(len(prices_list))\n",
    "print(len(discounts_list))"
   ]
  },
  {
   "cell_type": "code",
   "execution_count": 10,
   "metadata": {},
   "outputs": [],
   "source": [
    "min_len = min(len(names_list),len(prices_list),len(discounts_list))\n",
    "\n",
    "names_list = names_list\n",
    "\n",
    "prices_list = prices_list[:min_len]\n",
    "\n",
    "discounts_list = discounts_list[:min_len]"
   ]
  },
  {
   "cell_type": "code",
   "execution_count": 11,
   "metadata": {},
   "outputs": [],
   "source": [
    "df=pd.DataFrame({'Tshirt name': names_list,\n",
    "                 'Prices':prices_list,\n",
    "                 'Discounts': discounts_list\n",
    "                 })"
   ]
  },
  {
   "cell_type": "code",
   "execution_count": 12,
   "metadata": {},
   "outputs": [
    {
     "name": "stdout",
     "output_type": "stream",
     "text": [
      "     Tshirt name Prices Discounts\n",
      "0         KAJARU   ₹189   86% off\n",
      "1         KAJARU   ₹189   81% off\n",
      "2         VeBNoR   ₹249   75% off\n",
      "3        Teezler   ₹259   80% off\n",
      "4            Kyk   ₹279   62% off\n",
      "..           ...    ...       ...\n",
      "355       VeBNoR   ₹238   62% off\n",
      "356    Polo Plus   ₹249   71% off\n",
      "357   RED CLOVER   ₹279   85% off\n",
      "358    EyeBogler   ₹288   86% off\n",
      "359  DyrectDeals   ₹299   81% off\n",
      "\n",
      "[360 rows x 3 columns]\n"
     ]
    }
   ],
   "source": [
    "print(df)"
   ]
  },
  {
   "cell_type": "code",
   "execution_count": 13,
   "metadata": {},
   "outputs": [
    {
     "data": {
      "application/vnd.microsoft.datawrangler.viewer.v0+json": {
       "columns": [
        {
         "name": "index",
         "rawType": "int64",
         "type": "integer"
        },
        {
         "name": "Tshirt name",
         "rawType": "object",
         "type": "string"
        },
        {
         "name": "Prices",
         "rawType": "object",
         "type": "string"
        },
        {
         "name": "Discounts",
         "rawType": "object",
         "type": "string"
        }
       ],
       "conversionMethod": "pd.DataFrame",
       "ref": "dec996e0-7c7d-475a-b8a0-b669c9780999",
       "rows": [
        [
         "0",
         "KAJARU",
         "₹189",
         "86% off"
        ],
        [
         "1",
         "KAJARU",
         "₹189",
         "81% off"
        ],
        [
         "2",
         "VeBNoR",
         "₹249",
         "75% off"
        ],
        [
         "3",
         "Teezler",
         "₹259",
         "80% off"
        ],
        [
         "4",
         "Kyk",
         "₹279",
         "62% off"
        ],
        [
         "5",
         "U.S. POLO ASSN.",
         "₹918",
         "54% off"
        ],
        [
         "6",
         "SCOTT FINCHER",
         "₹349",
         "68% off"
        ],
        [
         "7",
         "R.Code by The Roadster Life Co.",
         "₹467",
         "61% off"
        ],
        [
         "8",
         "HIGHLANDER",
         "₹313",
         "72% off"
        ],
        [
         "9",
         "Mr Bowerbird",
         "₹228",
         "77% off"
        ],
        [
         "10",
         "FTX",
         "₹475",
         "68% off"
        ],
        [
         "11",
         "U.S. POLO ASSN.",
         "₹688",
         "54% off"
        ],
        [
         "12",
         "EyeBogler",
         "₹279",
         "88% off"
        ],
        [
         "13",
         "Roadster",
         "₹342",
         "61% off"
        ],
        [
         "14",
         "FIONAA TRENDZ",
         "₹494",
         "50% off"
        ],
        [
         "15",
         "Roadster",
         "₹160",
         "79% off"
        ],
        [
         "16",
         "FTX",
         "₹475",
         "68% off"
        ],
        [
         "17",
         "Madfrog",
         "₹249",
         "75% off"
        ],
        [
         "18",
         "sti",
         "₹229",
         "84% off"
        ],
        [
         "19",
         "MANIAC",
         "₹399",
         "83% off"
        ],
        [
         "20",
         "FTX",
         "₹475",
         "68% off"
        ],
        [
         "21",
         "Force",
         "₹255",
         "87% off"
        ],
        [
         "22",
         "VeBNoR",
         "₹249",
         "75% off"
        ],
        [
         "23",
         "N AND J",
         "₹279",
         "65% off"
        ],
        [
         "24",
         "HRX by Hrithik Roshan",
         "₹306",
         "65% off"
        ],
        [
         "25",
         "3BROS",
         "₹299",
         "70% off"
        ],
        [
         "26",
         "FTX",
         "₹499",
         "80% off"
        ],
        [
         "27",
         "U.S. POLO ASSN.",
         "₹780",
         "54% off"
        ],
        [
         "28",
         "Roadster",
         "₹390",
         "56% off"
        ],
        [
         "29",
         "Autna",
         "₹284",
         "78% off"
        ],
        [
         "30",
         "KAEZRI",
         "₹349",
         "82% off"
        ],
        [
         "31",
         "Polo Plus",
         "₹299",
         "75% off"
        ],
        [
         "32",
         "London Hills",
         "₹249",
         "80% off"
        ],
        [
         "33",
         "VeBNoR",
         "₹249",
         "75% off"
        ],
        [
         "34",
         "sti",
         "₹229",
         "77% off"
        ],
        [
         "35",
         "SCOTT FINCHER",
         "₹349",
         "68% off"
        ],
        [
         "36",
         "BUKKL",
         "₹299",
         "85% off"
        ],
        [
         "37",
         "INKKR",
         "₹299",
         "70% off"
        ],
        [
         "38",
         "HRX by Hrithik Roshan",
         "₹238",
         "65% off"
        ],
        [
         "39",
         "PETER ENGLAND",
         "₹499",
         "50% off"
        ],
        [
         "40",
         "KAJARU",
         "₹255",
         "87% off"
        ],
        [
         "41",
         "KAJARU",
         "₹249",
         "75% off"
        ],
        [
         "42",
         "TECHNOSPORT",
         "₹229",
         "77% off"
        ],
        [
         "43",
         "Teezler",
         "₹306",
         "65% off"
        ],
        [
         "44",
         "Kyk",
         "₹299",
         "75% off"
        ],
        [
         "45",
         "U.S. POLO ASSN.",
         "₹189",
         "86% off"
        ],
        [
         "46",
         "R.Code by The Roadster Life Co.",
         "₹189",
         "81% off"
        ],
        [
         "47",
         "SCOTT FINCHER",
         "₹342",
         "10% off"
        ],
        [
         "48",
         "Diversify",
         "₹259",
         "80% off"
        ],
        [
         "49",
         "sti",
         "₹279",
         "62% off"
        ]
       ],
       "shape": {
        "columns": 3,
        "rows": 360
       }
      },
      "text/html": [
       "<div>\n",
       "<style scoped>\n",
       "    .dataframe tbody tr th:only-of-type {\n",
       "        vertical-align: middle;\n",
       "    }\n",
       "\n",
       "    .dataframe tbody tr th {\n",
       "        vertical-align: top;\n",
       "    }\n",
       "\n",
       "    .dataframe thead th {\n",
       "        text-align: right;\n",
       "    }\n",
       "</style>\n",
       "<table border=\"1\" class=\"dataframe\">\n",
       "  <thead>\n",
       "    <tr style=\"text-align: right;\">\n",
       "      <th></th>\n",
       "      <th>Tshirt name</th>\n",
       "      <th>Prices</th>\n",
       "      <th>Discounts</th>\n",
       "    </tr>\n",
       "  </thead>\n",
       "  <tbody>\n",
       "    <tr>\n",
       "      <th>0</th>\n",
       "      <td>KAJARU</td>\n",
       "      <td>₹189</td>\n",
       "      <td>86% off</td>\n",
       "    </tr>\n",
       "    <tr>\n",
       "      <th>1</th>\n",
       "      <td>KAJARU</td>\n",
       "      <td>₹189</td>\n",
       "      <td>81% off</td>\n",
       "    </tr>\n",
       "    <tr>\n",
       "      <th>2</th>\n",
       "      <td>VeBNoR</td>\n",
       "      <td>₹249</td>\n",
       "      <td>75% off</td>\n",
       "    </tr>\n",
       "    <tr>\n",
       "      <th>3</th>\n",
       "      <td>Teezler</td>\n",
       "      <td>₹259</td>\n",
       "      <td>80% off</td>\n",
       "    </tr>\n",
       "    <tr>\n",
       "      <th>4</th>\n",
       "      <td>Kyk</td>\n",
       "      <td>₹279</td>\n",
       "      <td>62% off</td>\n",
       "    </tr>\n",
       "    <tr>\n",
       "      <th>...</th>\n",
       "      <td>...</td>\n",
       "      <td>...</td>\n",
       "      <td>...</td>\n",
       "    </tr>\n",
       "    <tr>\n",
       "      <th>355</th>\n",
       "      <td>VeBNoR</td>\n",
       "      <td>₹238</td>\n",
       "      <td>62% off</td>\n",
       "    </tr>\n",
       "    <tr>\n",
       "      <th>356</th>\n",
       "      <td>Polo Plus</td>\n",
       "      <td>₹249</td>\n",
       "      <td>71% off</td>\n",
       "    </tr>\n",
       "    <tr>\n",
       "      <th>357</th>\n",
       "      <td>RED CLOVER</td>\n",
       "      <td>₹279</td>\n",
       "      <td>85% off</td>\n",
       "    </tr>\n",
       "    <tr>\n",
       "      <th>358</th>\n",
       "      <td>EyeBogler</td>\n",
       "      <td>₹288</td>\n",
       "      <td>86% off</td>\n",
       "    </tr>\n",
       "    <tr>\n",
       "      <th>359</th>\n",
       "      <td>DyrectDeals</td>\n",
       "      <td>₹299</td>\n",
       "      <td>81% off</td>\n",
       "    </tr>\n",
       "  </tbody>\n",
       "</table>\n",
       "<p>360 rows × 3 columns</p>\n",
       "</div>"
      ],
      "text/plain": [
       "     Tshirt name Prices Discounts\n",
       "0         KAJARU   ₹189   86% off\n",
       "1         KAJARU   ₹189   81% off\n",
       "2         VeBNoR   ₹249   75% off\n",
       "3        Teezler   ₹259   80% off\n",
       "4            Kyk   ₹279   62% off\n",
       "..           ...    ...       ...\n",
       "355       VeBNoR   ₹238   62% off\n",
       "356    Polo Plus   ₹249   71% off\n",
       "357   RED CLOVER   ₹279   85% off\n",
       "358    EyeBogler   ₹288   86% off\n",
       "359  DyrectDeals   ₹299   81% off\n",
       "\n",
       "[360 rows x 3 columns]"
      ]
     },
     "execution_count": 13,
     "metadata": {},
     "output_type": "execute_result"
    }
   ],
   "source": [
    "df"
   ]
  },
  {
   "cell_type": "code",
   "execution_count": 14,
   "metadata": {},
   "outputs": [],
   "source": [
    "df.to_csv(r\"C:\\Users\\Administrator\\OneDrive\\Documents\\Projects\\Tshirts for Men.csv\",index=False)"
   ]
  },
  {
   "cell_type": "code",
   "execution_count": null,
   "metadata": {},
   "outputs": [],
   "source": []
  }
 ],
 "metadata": {
  "kernelspec": {
   "display_name": "base",
   "language": "python",
   "name": "python3"
  },
  "language_info": {
   "codemirror_mode": {
    "name": "ipython",
    "version": 3
   },
   "file_extension": ".py",
   "mimetype": "text/x-python",
   "name": "python",
   "nbconvert_exporter": "python",
   "pygments_lexer": "ipython3",
   "version": "3.11.7"
  }
 },
 "nbformat": 4,
 "nbformat_minor": 2
}
