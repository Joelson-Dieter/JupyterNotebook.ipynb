{
 "cells": [
  {
   "cell_type": "code",
   "execution_count": 10,
   "metadata": {},
   "outputs": [],
   "source": [
    "from selenium import webdriver\n",
    "from selenium.webdriver.chrome.service import Service\n",
    "\n",
    "# Specify the path to your chromedriver\n",
    "service = Service(r\"C:\\Users\\Administrator\\OneDrive\\Documents\\Data_Entry\\PythonDOCS\\chromedriver.exe\")  # Replace with your actual path\n",
    "\n",
    "# Initialize WebDriver correctly\n",
    "driver = webdriver.Chrome(service=service)\n",
    "\n",
    "driver.get('https://www.flipkart.com/')\n"
   ]
  }
 ],
 "metadata": {
  "kernelspec": {
   "display_name": "base",
   "language": "python",
   "name": "python3"
  },
  "language_info": {
   "codemirror_mode": {
    "name": "ipython",
    "version": 3
   },
   "file_extension": ".py",
   "mimetype": "text/x-python",
   "name": "python",
   "nbconvert_exporter": "python",
   "pygments_lexer": "ipython3",
   "version": "3.11.7"
  }
 },
 "nbformat": 4,
 "nbformat_minor": 2
}
