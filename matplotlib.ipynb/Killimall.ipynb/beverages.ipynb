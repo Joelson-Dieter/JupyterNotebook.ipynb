{
 "cells": [
  {
   "cell_type": "code",
   "execution_count": 42,
   "metadata": {},
   "outputs": [],
   "source": [
    "import requests\n",
    "from bs4 import BeautifulSoup\n",
    "import pandas as pd\n",
    "\n",
    "company_name_list = []\n",
    "\n",
    "information_list = []\n",
    "\n",
    "descriptions_list = []\n",
    "\n",
    "\n",
    "\n",
    "url = \"https://beveragetradenetwork.com/en/company/page-1/\"\n",
    "\n",
    "response = requests.get(url)\n",
    "\n",
    "soup = BeautifulSoup(response.text, 'html.parser')\n",
    "\n",
    "company_name = soup.find_all('h2')\n",
    "for company in company_name:\n",
    "  company_name_list.append(company.text.strip())\n",
    "\n",
    "information = soup.find_all ('div',class_='info')\n",
    "\n",
    "for info in information:\n",
    "\n",
    "  information_list.append(info.text.strip())\n",
    "\n",
    "descriptions = soup.find_all ('div',class_='subTitle')\n",
    "for desc in descriptions:\n",
    "  descriptions_list.append(desc.text.strip())\n",
    "\n"
   ]
  },
  {
   "cell_type": "code",
   "execution_count": 43,
   "metadata": {},
   "outputs": [
    {
     "name": "stdout",
     "output_type": "stream",
     "text": [
      "['Companies', 'Bay Tree Wine Co', 'Chengdu Micro-Brewing Technology Co,.ltd.', 'Agave Industries (India) Pvt. Ltd.,', 'Golden Gate Wine Co Ltd', 'Wilson Daniels', 'New Zealand Unlimited (NZ) Ltd', 'Taverna Tagaris', 'Flight Spirits', 'Terragena', 'LURE Drinks', 'Osmar Imports', 'Ukrainian Wine Company UK', 'Tuscany Wine Importer LLC', 'MHW, Ltd.', 'ACAIBO', 'ABOUT', 'Tradeshows', 'Competitions', 'Media Assets']\n",
      "['Category:  Winery\\nCountry:  United States\\nPost date:  07/02/2025', 'Category:  Winery\\nCountry:  United States\\nPost date:  03/02/2025', 'Category:  Distillery\\nCountry:  United States\\nPost date:  03/02/2025', 'Category:  Winery\\nCountry:  United States\\nPost date:  03/02/2025', 'Category:  Non Alcoholic Drinks Supplier\\nCountry:  United States\\nPost date:  31/01/2025', 'Category:  Wine Importer\\nCountry:  United States\\nPost date:  21/01/2025', 'Category:  Wine Importer\\nCountry:  United Kingdom\\nPost date:  17/01/2025', 'Category:  Wine Wholesaler\\nCountry:  United States\\nPost date:  19/12/2024', 'Category:  Spirits Importer\\nCountry:  United States\\nPost date:  25/10/2024', 'Category:  Winery\\nCountry:  United States\\nPost date:  24/10/2024']\n",
      "['{companyDescriptionShort_en}', '{companyDescriptionShort_en}', '{companyDescriptionShort_en}', '{companyDescriptionShort_en}', '{companyDescriptionShort_en}', 'NEW ZEALAND UNLIMITED is a Malaysian-registered company dedicated to promoting New Zealand goods and services in Malaysia.', 'Experience Luxury Uncorked: Organic Winery & Taverna', 'At Flight Spirits, we know that crafting exceptional spirits requires not just passion but also a deep understanding of the craft.', 'consciously crafted for the curious mind.', 'PREMIUM NON-ALCOHOLIC BEVERAGES Designed to Enhance Social Experiences by Promoting Relaxation, Sociability, and Overall Well-Being.', 'Wine Import company specializing in the wines of Romania', 'Ukrainian Wine Company UK is importing the best Ukrainian wines in the UK.', 'Wine wholesaler selling Italian wines to restaurants and retailers in Atlanta, GA.', 'MHW is a beverage alcohol importer, distributor, and service provider offering our expertise in the US, UK, and EU.', 'Acaibo, Sonoma, California. Unique expression of Cabernet sauvignon, Merlot and Cabernet franc. Organic and regenerative farming.']\n"
     ]
    }
   ],
   "source": [
    "print(company_name_list)\n",
    "print(information_list)\n",
    "print(descriptions_list)"
   ]
  },
  {
   "cell_type": "code",
   "execution_count": 44,
   "metadata": {},
   "outputs": [
    {
     "name": "stdout",
     "output_type": "stream",
     "text": [
      "20\n",
      "10\n",
      "15\n"
     ]
    }
   ],
   "source": [
    "print(len(company_name_list))\n",
    "print(len(information_list))\n",
    "print(len(descriptions_list))"
   ]
  },
  {
   "cell_type": "code",
   "execution_count": 45,
   "metadata": {},
   "outputs": [],
   "source": [
    "min_length = min(len(company_name_list), len(information_list), len(company_name))\n",
    "\n",
    "company_name_list = company_name_list[:min_length]\n",
    "\n",
    "information_list  = information_list[:min_length]\n",
    "\n",
    "description_list = descriptions_list[:min_length]\n",
    "\n"
   ]
  },
  {
   "cell_type": "code",
   "execution_count": 46,
   "metadata": {},
   "outputs": [
    {
     "name": "stdout",
     "output_type": "stream",
     "text": [
      "                                Company Name  \\\n",
      "0                                  Companies   \n",
      "1                           Bay Tree Wine Co   \n",
      "2  Chengdu Micro-Brewing Technology Co,.ltd.   \n",
      "3        Agave Industries (India) Pvt. Ltd.,   \n",
      "4                    Golden Gate Wine Co Ltd   \n",
      "5                             Wilson Daniels   \n",
      "6             New Zealand Unlimited (NZ) Ltd   \n",
      "7                            Taverna Tagaris   \n",
      "8                             Flight Spirits   \n",
      "9                                  Terragena   \n",
      "\n",
      "                                         Information  \\\n",
      "0  Category:  Winery\\nCountry:  United States\\nPo...   \n",
      "1  Category:  Winery\\nCountry:  United States\\nPo...   \n",
      "2  Category:  Distillery\\nCountry:  United States...   \n",
      "3  Category:  Winery\\nCountry:  United States\\nPo...   \n",
      "4  Category:  Non Alcoholic Drinks Supplier\\nCoun...   \n",
      "5  Category:  Wine Importer\\nCountry:  United Sta...   \n",
      "6  Category:  Wine Importer\\nCountry:  United Kin...   \n",
      "7  Category:  Wine Wholesaler\\nCountry:  United S...   \n",
      "8  Category:  Spirits Importer\\nCountry:  United ...   \n",
      "9  Category:  Winery\\nCountry:  United States\\nPo...   \n",
      "\n",
      "                                         Description  \n",
      "0                       {companyDescriptionShort_en}  \n",
      "1                       {companyDescriptionShort_en}  \n",
      "2                       {companyDescriptionShort_en}  \n",
      "3                       {companyDescriptionShort_en}  \n",
      "4                       {companyDescriptionShort_en}  \n",
      "5  NEW ZEALAND UNLIMITED is a Malaysian-registere...  \n",
      "6  Experience Luxury Uncorked: Organic Winery & T...  \n",
      "7  At Flight Spirits, we know that crafting excep...  \n",
      "8          consciously crafted for the curious mind.  \n",
      "9  PREMIUM NON-ALCOHOLIC BEVERAGES Designed to En...  \n"
     ]
    }
   ],
   "source": [
    "df=pd.DataFrame({'Company Name':company_name_list,'Information':information_list,'Description':description_list})\n",
    "\n",
    "print(df)"
   ]
  },
  {
   "cell_type": "code",
   "execution_count": 47,
   "metadata": {},
   "outputs": [
    {
     "data": {
      "text/html": [
       "<div>\n",
       "<style scoped>\n",
       "    .dataframe tbody tr th:only-of-type {\n",
       "        vertical-align: middle;\n",
       "    }\n",
       "\n",
       "    .dataframe tbody tr th {\n",
       "        vertical-align: top;\n",
       "    }\n",
       "\n",
       "    .dataframe thead th {\n",
       "        text-align: right;\n",
       "    }\n",
       "</style>\n",
       "<table border=\"1\" class=\"dataframe\">\n",
       "  <thead>\n",
       "    <tr style=\"text-align: right;\">\n",
       "      <th></th>\n",
       "      <th>Company Name</th>\n",
       "      <th>Information</th>\n",
       "      <th>Description</th>\n",
       "    </tr>\n",
       "  </thead>\n",
       "  <tbody>\n",
       "    <tr>\n",
       "      <th>0</th>\n",
       "      <td>Companies</td>\n",
       "      <td>Category:  Winery\\nCountry:  United States\\nPo...</td>\n",
       "      <td>{companyDescriptionShort_en}</td>\n",
       "    </tr>\n",
       "    <tr>\n",
       "      <th>1</th>\n",
       "      <td>Bay Tree Wine Co</td>\n",
       "      <td>Category:  Winery\\nCountry:  United States\\nPo...</td>\n",
       "      <td>{companyDescriptionShort_en}</td>\n",
       "    </tr>\n",
       "    <tr>\n",
       "      <th>2</th>\n",
       "      <td>Chengdu Micro-Brewing Technology Co,.ltd.</td>\n",
       "      <td>Category:  Distillery\\nCountry:  United States...</td>\n",
       "      <td>{companyDescriptionShort_en}</td>\n",
       "    </tr>\n",
       "    <tr>\n",
       "      <th>3</th>\n",
       "      <td>Agave Industries (India) Pvt. Ltd.,</td>\n",
       "      <td>Category:  Winery\\nCountry:  United States\\nPo...</td>\n",
       "      <td>{companyDescriptionShort_en}</td>\n",
       "    </tr>\n",
       "    <tr>\n",
       "      <th>4</th>\n",
       "      <td>Golden Gate Wine Co Ltd</td>\n",
       "      <td>Category:  Non Alcoholic Drinks Supplier\\nCoun...</td>\n",
       "      <td>{companyDescriptionShort_en}</td>\n",
       "    </tr>\n",
       "    <tr>\n",
       "      <th>5</th>\n",
       "      <td>Wilson Daniels</td>\n",
       "      <td>Category:  Wine Importer\\nCountry:  United Sta...</td>\n",
       "      <td>NEW ZEALAND UNLIMITED is a Malaysian-registere...</td>\n",
       "    </tr>\n",
       "    <tr>\n",
       "      <th>6</th>\n",
       "      <td>New Zealand Unlimited (NZ) Ltd</td>\n",
       "      <td>Category:  Wine Importer\\nCountry:  United Kin...</td>\n",
       "      <td>Experience Luxury Uncorked: Organic Winery &amp; T...</td>\n",
       "    </tr>\n",
       "    <tr>\n",
       "      <th>7</th>\n",
       "      <td>Taverna Tagaris</td>\n",
       "      <td>Category:  Wine Wholesaler\\nCountry:  United S...</td>\n",
       "      <td>At Flight Spirits, we know that crafting excep...</td>\n",
       "    </tr>\n",
       "    <tr>\n",
       "      <th>8</th>\n",
       "      <td>Flight Spirits</td>\n",
       "      <td>Category:  Spirits Importer\\nCountry:  United ...</td>\n",
       "      <td>consciously crafted for the curious mind.</td>\n",
       "    </tr>\n",
       "    <tr>\n",
       "      <th>9</th>\n",
       "      <td>Terragena</td>\n",
       "      <td>Category:  Winery\\nCountry:  United States\\nPo...</td>\n",
       "      <td>PREMIUM NON-ALCOHOLIC BEVERAGES Designed to En...</td>\n",
       "    </tr>\n",
       "  </tbody>\n",
       "</table>\n",
       "</div>"
      ],
      "text/plain": [
       "                                Company Name  \\\n",
       "0                                  Companies   \n",
       "1                           Bay Tree Wine Co   \n",
       "2  Chengdu Micro-Brewing Technology Co,.ltd.   \n",
       "3        Agave Industries (India) Pvt. Ltd.,   \n",
       "4                    Golden Gate Wine Co Ltd   \n",
       "5                             Wilson Daniels   \n",
       "6             New Zealand Unlimited (NZ) Ltd   \n",
       "7                            Taverna Tagaris   \n",
       "8                             Flight Spirits   \n",
       "9                                  Terragena   \n",
       "\n",
       "                                         Information  \\\n",
       "0  Category:  Winery\\nCountry:  United States\\nPo...   \n",
       "1  Category:  Winery\\nCountry:  United States\\nPo...   \n",
       "2  Category:  Distillery\\nCountry:  United States...   \n",
       "3  Category:  Winery\\nCountry:  United States\\nPo...   \n",
       "4  Category:  Non Alcoholic Drinks Supplier\\nCoun...   \n",
       "5  Category:  Wine Importer\\nCountry:  United Sta...   \n",
       "6  Category:  Wine Importer\\nCountry:  United Kin...   \n",
       "7  Category:  Wine Wholesaler\\nCountry:  United S...   \n",
       "8  Category:  Spirits Importer\\nCountry:  United ...   \n",
       "9  Category:  Winery\\nCountry:  United States\\nPo...   \n",
       "\n",
       "                                         Description  \n",
       "0                       {companyDescriptionShort_en}  \n",
       "1                       {companyDescriptionShort_en}  \n",
       "2                       {companyDescriptionShort_en}  \n",
       "3                       {companyDescriptionShort_en}  \n",
       "4                       {companyDescriptionShort_en}  \n",
       "5  NEW ZEALAND UNLIMITED is a Malaysian-registere...  \n",
       "6  Experience Luxury Uncorked: Organic Winery & T...  \n",
       "7  At Flight Spirits, we know that crafting excep...  \n",
       "8          consciously crafted for the curious mind.  \n",
       "9  PREMIUM NON-ALCOHOLIC BEVERAGES Designed to En...  "
      ]
     },
     "execution_count": 47,
     "metadata": {},
     "output_type": "execute_result"
    }
   ],
   "source": [
    "df"
   ]
  },
  {
   "cell_type": "code",
   "execution_count": 48,
   "metadata": {},
   "outputs": [],
   "source": [
    "df.to_csv(r\"C:\\Users\\Administrator\\OneDrive\\Documents\\Projects\\companies.csv\",index=False)"
   ]
  }
 ],
 "metadata": {
  "kernelspec": {
   "display_name": "base",
   "language": "python",
   "name": "python3"
  },
  "language_info": {
   "codemirror_mode": {
    "name": "ipython",
    "version": 3
   },
   "file_extension": ".py",
   "mimetype": "text/x-python",
   "name": "python",
   "nbconvert_exporter": "python",
   "pygments_lexer": "ipython3",
   "version": "3.11.7"
  }
 },
 "nbformat": 4,
 "nbformat_minor": 2
}
