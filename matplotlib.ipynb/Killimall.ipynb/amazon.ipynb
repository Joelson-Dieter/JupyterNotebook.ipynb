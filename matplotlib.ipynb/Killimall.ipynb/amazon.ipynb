{
 "cells": [
  {
   "cell_type": "code",
   "execution_count": 67,
   "metadata": {},
   "outputs": [],
   "source": [
    "from selenium import webdriver\n",
    "from selenium.webdriver.chrome.service import Service \n",
    "from selenium.webdriver.common.by import By \n",
    "from time import sleep\n",
    "service = Service (r\"C:\\Users\\Administrator\\OneDrive\\Documents\\Data_Entry\\PythonDOCS\\chromedriver.exe\")\n",
    "driver = webdriver.Chrome (service=service)\n",
    "driver.get(\"https://www.flipkart.com/\")\n",
    "driver.maximize_window_size = True"
   ]
  },
  {
   "cell_type": "code",
   "execution_count": 68,
   "metadata": {},
   "outputs": [],
   "source": [
    "input_search = driver.find_elements(By.XPATH,\"(//input[@type='text'])\")\n",
    "\n",
    "search_button = driver.find_elements(By.XPATH,\"(//button[@class='_2iLD__'])\")\n",
    "\n",
    "input_search [0].send_keys(\"Books,comic books anime\")\n",
    "\n",
    "sleep(1)\n",
    "\n",
    "search_button[0].click()"
   ]
  },
  {
   "cell_type": "code",
   "execution_count": 69,
   "metadata": {},
   "outputs": [],
   "source": [
    "product_class = \"wjcEIp\""
   ]
  },
  {
   "cell_type": "code",
   "execution_count": 70,
   "metadata": {},
   "outputs": [
    {
     "name": "stdout",
     "output_type": "stream",
     "text": [
      "scrapping_page 1\n",
      "scrapping_page 2\n",
      "scrapping_page 3\n",
      "scrapping_page 4\n",
      "scrapping_page 5\n",
      "scrapping_page 6\n",
      "scrapping_page 7\n",
      "scrapping_page 8\n",
      "scrapping_page 9\n",
      "scrapping_page 10\n",
      "scrapping_page 11\n",
      "scrapping_page 12\n",
      "scrapping_page 13\n",
      "scrapping_page 14\n",
      "scrapping_page 15\n",
      "scrapping_page 16\n",
      "scrapping_page 17\n",
      "scrapping_page 18\n",
      "scrapping_page 19\n",
      "scrapping_page 20\n",
      "scrapping_page 21\n",
      "scrapping_page 22\n",
      "scrapping_page 23\n",
      "scrapping_page 24\n",
      "scrapping_page 25\n",
      "scrapping_page 26\n",
      "scrapping_page 27\n",
      "scrapping_page 28\n",
      "scrapping_page 29\n",
      "scrapping_page 30\n"
     ]
    }
   ],
   "source": [
    "products = []\n",
    "\n",
    "for i in range (30):\n",
    "  print('scrapping_page',i+1)\n",
    "  product = driver.find_elements (By.XPATH,\"(//a[@class='wjcEIp'])\")\n",
    "  for p in product:\n",
    "    products.append(p.text.strip())\n",
    "  next_button = driver.find_elements(By.XPATH,\"(//a[@class='_9QVEpD'])\")\n",
    "  next_button[0].click()\n",
    "  sleep(5)\n"
   ]
  },
  {
   "cell_type": "code",
   "execution_count": 71,
   "metadata": {},
   "outputs": [
    {
     "data": {
      "text/plain": [
       "1200"
      ]
     },
     "execution_count": 71,
     "metadata": {},
     "output_type": "execute_result"
    }
   ],
   "source": [
    "len(products)"
   ]
  },
  {
   "cell_type": "code",
   "execution_count": 72,
   "metadata": {},
   "outputs": [
    {
     "name": "stdout",
     "output_type": "stream",
     "text": [
      "['Jujutsu Kaisen, Vol. 4: Volume 4 - Anime Books, Jujuts...', 'Demon Slayer: Kimetsu No Yaiba, Vol. 1,2,3,4 Combo Set', 'Drawing Anime Faces and Feelings', 'Chainsaw Man Complete Box Set: Vol.1 To 11', 'Master Guide to Drawing Anime, The: Romance', 'Fairy Tales of Remnant', 'Anime Art Class: Volume 4', 'The Master Guide to Drawing Anime: Volume 1', \"The Beginner's Guide to Anime and Manga\", 'RWBY Roman Holiday', 'Anime Tarot Deck and Guidebook', 'Cook Anime', 'How to Draw Anime and Game Characters: v. 1', 'Anime & Manga Digital Coloring Guide', 'The Master Guide to Drawing Anime: Amazing Girls', 'Big Book of Drawing Anime, The', 'How To Be A Professional Anime Artist', 'Anime Impact', 'Fluent Japanese From Anime and Manga', 'The Anime Encyclopedia, 3rd Revised Edition', 'Anime Explosion!', 'Anime Cooking', 'My Dress-Up Darling Official Anime Fanbook', 'How to Draw Digital Manga and Anime', 'Manga & Anime Digital Illustration Guide', 'From Impressionism to Anime', 'From Impressionism to Anime', 'Fruits Basket: Complete Anime Natsuki Takaya Illustrati...', 'Overlord: The Complete Anime Artbook', 'Overlord: The Complete Anime Artbook II III', 'Attack On Titan: The Anime Guide', 'Design Your Own Anime and Manga Characters', 'Draw & Color Anime Kit', 'Anime Art Class Sketchbook', 'Drawing and Painting Anime and Manga Faces', 'Understanding Manga and Anime', 'BLEACH: The Official Anime Coloring Book', 'RINKON Anime Notebook Deathnote PACK 2 Comics Death not...', 'RINKON Anime Naruto Notebook Set A5 Size 160 Pages Unru...', 'Sketching from the Imagination: Anime & Manga', 'ComicSense Deathnote Book A5 Note Book 144 Pages', 'ComicSense Death Note Anime Sketchbook A5 Notebook Unru...', 'ThePaper9Store 6 cm Mix anime stickers Laptop, Phone Ca...', 'Original Mart Jump Style 3D Backpack 16Inch 2D Drawing ...', 'Tokyo Revengers Anime Members Photo cards ( Set of 14 +...', 'ComicSense Jujutsu Kaisen Anime A5 Notebook Unruled 120...', 'ThePaper9Store 6 cm Manga stickers for Laptop, Phone Ca...', 'ComicSense One Piece Anime Wanted Posters A5 Note Book ...', 'ComicSense tachi Sacrifice Naruto Anime A5 Note Book Bl...', 'ThePaper9Store 6 cm Demon Slayer stickers Laptop, Phone...', 'ComicSense Demon Slayer Anime Thunder Breathing A5 Note...', 'ComicSense Jujutsu Kaisen Anime Strongest Sorcerer Sket...', 'Spy X Family Anime Photocards ( Set of 12 + 4 Freebies ...', 'ComicSense One Piece Anime Crossroads of Six Paths Sket...', 'ComicSense Uzumaki vs Uchiha Naruto Anime A5 Note Book ...', 'bosig Jump Style 3D Backpack 16Inch 2D Drawing Anime Co...', 'ThePaper9Store 6 cm Bleach sticker Laptop, Phone Case, ...', 'Jujutsu Kaisen: The Official Anime Guide: Season 1', 'The Art of Demon Slayer: Kimetsu no Yaiba the Anime', 'KT Mart Jump Style 3D Backpack 16Inch 2D Drawing Anime ...', 'Naruto Anime Concept Photo cards ( Set of 15 + 1 Freebi...', 'ComicSense My Hero Academia Anime Heroes & Villains Ske...', 'ThePaper9Store 6 cm Tokyo revengers sticker Laptop, Pho...', 'ComicSense Kimi no Na wa Anime Sketchbook A5 Notebook U...', 'ComicSense One Piece Anime Gear 5th Bounty Sketchbook A...', 'ThePaper9Store 6 cm Jujutsu Kaisen stickers Laptop, Pho...', 'Synthiglow 42 Pcs Sketching and Drawing Kit for Artists...', 'ThePaper9Store 6 cm Naruto stickers Laptop, Phone Case,...', 'ThePaper9Store 6 cm One piece stickers Laptop, Phone Ca...', 'ThePaper9Store 6 cm Chainsaw man sticker Laptop, Phone ...', 'PurpleBees ONE PIECE LUFFY COMIC STYLE Diary A5 Diary U...', 'Bleach Anime Members Photo cards ( Set of 14 + 2 Freebi...', 'ATRI 2 inch Angel or demon, Dark night rose, Sweet cool...', 'ComicSense One Piece Anime Thousand Sunny Dream Sketchb...', 'craft maniacs A5 NOTEBOOK + KEYCHAIN COLLECTION A5 Note...', 'craft maniacs A5 NOTEBOOK + KEYCHAIN COLLECTION A5 Note...', 'craft maniacs 2023 jujutsu DIARY + KEYCHAIN A5 Notebook...', 'craft maniacs ANIME SPECIAL NOTEBOOKS A5 Note Book RULE...', 'craft maniacs ANIME SPECIAL NOTEBOOKS A5 Note Book RULE...', 'Osamu Tezuka: Anime & Manga Character Sketchbook', 'Jujutsu Kaisen, Vol. 4: Volume 4 - Anime Books, Jujuts...', 'Demon Slayer: Kimetsu No Yaiba, Vol. 1,2,3,4 Combo Set', 'Drawing Anime Faces and Feelings', 'Chainsaw Man Complete Box Set: Vol.1 To 11', 'Master Guide to Drawing Anime, The: Romance', 'Fairy Tales of Remnant', 'Anime Art Class: Volume 4', 'The Master Guide to Drawing Anime: Volume 1', \"The Beginner's Guide to Anime and Manga\", 'RWBY Roman Holiday', 'Anime Tarot Deck and Guidebook', 'Cook Anime', 'How to Draw Anime and Game Characters: v. 1', 'Anime & Manga Digital Coloring Guide', 'The Master Guide to Drawing Anime: Amazing Girls', 'Big Book of Drawing Anime, The', 'How To Be A Professional Anime Artist', 'Anime Impact', 'Fluent Japanese From Anime and Manga', 'The Anime Encyclopedia, 3rd Revised Edition', 'Anime Explosion!', 'Anime Cooking', 'My Dress-Up Darling Official Anime Fanbook', 'How to Draw Digital Manga and Anime', 'Manga & Anime Digital Illustration Guide', 'From Impressionism to Anime', 'From Impressionism to Anime', 'Fruits Basket: Complete Anime Natsuki Takaya Illustrati...', 'Understanding Manga and Anime', 'Overlord: The Complete Anime Artbook', 'Overlord: The Complete Anime Artbook II III', 'Attack On Titan: The Anime Guide', 'Design Your Own Anime and Manga Characters', 'Draw & Color Anime Kit', 'Anime Art Class Sketchbook', 'Drawing and Painting Anime and Manga Faces', 'BLEACH: The Official Anime Coloring Book', 'RINKON Anime Notebook Deathnote PACK 2 Comics Death not...', 'RINKON Anime Naruto Notebook Set A5 Size 160 Pages Unru...', 'Sketching from the Imagination: Anime & Manga', 'ComicSense Deathnote Book A5 Note Book 144 Pages', 'ComicSense Death Note Anime Sketchbook A5 Notebook Unru...', 'ThePaper9Store 6 cm Mix anime stickers Laptop, Phone Ca...', 'Original Mart Jump Style 3D Backpack 16Inch 2D Drawing ...', 'Tokyo Revengers Anime Members Photo cards ( Set of 14 +...', 'ComicSense Jujutsu Kaisen Anime A5 Notebook Unruled 120...', 'ThePaper9Store 6 cm Manga stickers for Laptop, Phone Ca...', 'ComicSense One Piece Anime Wanted Posters A5 Note Book ...', 'ComicSense tachi Sacrifice Naruto Anime A5 Note Book Bl...', 'ThePaper9Store 6 cm Demon Slayer stickers Laptop, Phone...', 'ComicSense Demon Slayer Anime Thunder Breathing A5 Note...', 'ComicSense Jujutsu Kaisen Anime Strongest Sorcerer Sket...', 'Spy X Family Anime Photocards ( Set of 12 + 4 Freebies ...', 'ComicSense One Piece Anime Crossroads of Six Paths Sket...', 'ComicSense Uzumaki vs Uchiha Naruto Anime A5 Note Book ...', 'bosig Jump Style 3D Backpack 16Inch 2D Drawing Anime Co...', 'ThePaper9Store 6 cm Bleach sticker Laptop, Phone Case, ...', 'Jujutsu Kaisen: The Official Anime Guide: Season 1', 'The Art of Demon Slayer: Kimetsu no Yaiba the Anime', 'KT Mart Jump Style 3D Backpack 16Inch 2D Drawing Anime ...', 'Naruto Anime Concept Photo cards ( Set of 15 + 1 Freebi...', 'ComicSense My Hero Academia Anime Heroes & Villains Ske...', 'ThePaper9Store 6 cm Tokyo revengers sticker Laptop, Pho...', 'ComicSense Kimi no Na wa Anime Sketchbook A5 Notebook U...', 'ComicSense One Piece Anime Gear 5th Bounty Sketchbook A...', 'ThePaper9Store 6 cm Jujutsu Kaisen stickers Laptop, Pho...', 'Synthiglow 42 Pcs Sketching and Drawing Kit for Artists...', 'ThePaper9Store 6 cm Naruto stickers Laptop, Phone Case,...', 'ThePaper9Store 6 cm One piece stickers Laptop, Phone Ca...', 'ThePaper9Store 6 cm Chainsaw man sticker Laptop, Phone ...', 'PurpleBees ONE PIECE LUFFY COMIC STYLE Diary A5 Diary U...', 'Bleach Anime Members Photo cards ( Set of 14 + 2 Freebi...', 'ATRI 2 inch Angel or demon, Dark night rose, Sweet cool...', 'ComicSense One Piece Anime Thousand Sunny Dream Sketchb...', 'craft maniacs A5 NOTEBOOK + KEYCHAIN COLLECTION A5 Note...', 'craft maniacs A5 NOTEBOOK + KEYCHAIN COLLECTION A5 Note...', 'craft maniacs 2023 jujutsu DIARY + KEYCHAIN A5 Notebook...', 'craft maniacs ANIME SPECIAL NOTEBOOKS A5 Note Book RULE...', 'craft maniacs ANIME SPECIAL NOTEBOOKS A5 Note Book RULE...', 'Osamu Tezuka: Anime & Manga Character Sketchbook', 'Jujutsu Kaisen, Vol. 4: Volume 4 - Anime Books, Jujuts...', 'Demon Slayer: Kimetsu No Yaiba, Vol. 1,2,3,4 Combo Set', 'Drawing Anime Faces and Feelings', 'Chainsaw Man Complete Box Set: Vol.1 To 11', 'Master Guide to Drawing Anime, The: Romance', 'Fairy Tales of Remnant', 'Anime Art Class: Volume 4', 'The Master Guide to Drawing Anime: Volume 1', \"The Beginner's Guide to Anime and Manga\", 'RWBY Roman Holiday', 'Anime Tarot Deck and Guidebook', 'Cook Anime', 'How to Draw Anime and Game Characters: v. 1', 'Anime & Manga Digital Coloring Guide', 'The Master Guide to Drawing Anime: Amazing Girls', 'Big Book of Drawing Anime, The', 'How To Be A Professional Anime Artist', 'Anime Impact', 'Fluent Japanese From Anime and Manga', 'The Anime Encyclopedia, 3rd Revised Edition', 'Anime Explosion!', 'Anime Cooking', 'My Dress-Up Darling Official Anime Fanbook', 'How to Draw Digital Manga and Anime', 'Manga & Anime Digital Illustration Guide', 'From Impressionism to Anime', 'From Impressionism to Anime', 'Fruits Basket: Complete Anime Natsuki Takaya Illustrati...', 'Understanding Manga and Anime', 'Overlord: The Complete Anime Artbook', 'Overlord: The Complete Anime Artbook II III', 'Attack On Titan: The Anime Guide', 'Design Your Own Anime and Manga Characters', 'Draw & Color Anime Kit', 'Anime Art Class Sketchbook', 'Drawing and Painting Anime and Manga Faces', 'BLEACH: The Official Anime Coloring Book', 'RINKON Anime Notebook Deathnote PACK 2 Comics Death not...', 'RINKON Anime Naruto Notebook Set A5 Size 160 Pages Unru...', 'Sketching from the Imagination: Anime & Manga', 'ComicSense Deathnote Book A5 Note Book 144 Pages', 'ComicSense Death Note Anime Sketchbook A5 Notebook Unru...', 'ThePaper9Store 6 cm Mix anime stickers Laptop, Phone Ca...', 'Original Mart Jump Style 3D Backpack 16Inch 2D Drawing ...', 'Tokyo Revengers Anime Members Photo cards ( Set of 14 +...', 'ComicSense Jujutsu Kaisen Anime A5 Notebook Unruled 120...', 'ThePaper9Store 6 cm Manga stickers for Laptop, Phone Ca...', 'ComicSense One Piece Anime Wanted Posters A5 Note Book ...', 'ComicSense tachi Sacrifice Naruto Anime A5 Note Book Bl...', 'ThePaper9Store 6 cm Demon Slayer stickers Laptop, Phone...', 'ComicSense Demon Slayer Anime Thunder Breathing A5 Note...', 'ComicSense Jujutsu Kaisen Anime Strongest Sorcerer Sket...', 'Spy X Family Anime Photocards ( Set of 12 + 4 Freebies ...', 'ComicSense One Piece Anime Crossroads of Six Paths Sket...', 'ComicSense Uzumaki vs Uchiha Naruto Anime A5 Note Book ...', 'bosig Jump Style 3D Backpack 16Inch 2D Drawing Anime Co...', 'ThePaper9Store 6 cm Bleach sticker Laptop, Phone Case, ...', 'Jujutsu Kaisen: The Official Anime Guide: Season 1', 'The Art of Demon Slayer: Kimetsu no Yaiba the Anime', 'KT Mart Jump Style 3D Backpack 16Inch 2D Drawing Anime ...', 'Naruto Anime Concept Photo cards ( Set of 15 + 1 Freebi...', 'ComicSense My Hero Academia Anime Heroes & Villains Ske...', 'ThePaper9Store 6 cm Tokyo revengers sticker Laptop, Pho...', 'ComicSense Kimi no Na wa Anime Sketchbook A5 Notebook U...', 'ComicSense One Piece Anime Gear 5th Bounty Sketchbook A...', 'ThePaper9Store 6 cm Jujutsu Kaisen stickers Laptop, Pho...', 'Synthiglow 42 Pcs Sketching and Drawing Kit for Artists...', 'ThePaper9Store 6 cm Naruto stickers Laptop, Phone Case,...', 'ThePaper9Store 6 cm One piece stickers Laptop, Phone Ca...', 'ThePaper9Store 6 cm Chainsaw man sticker Laptop, Phone ...', 'PurpleBees ONE PIECE LUFFY COMIC STYLE Diary A5 Diary U...', 'Bleach Anime Members Photo cards ( Set of 14 + 2 Freebi...', 'ATRI 2 inch Angel or demon, Dark night rose, Sweet cool...', 'ComicSense One Piece Anime Thousand Sunny Dream Sketchb...', 'craft maniacs A5 NOTEBOOK + KEYCHAIN COLLECTION A5 Note...', 'craft maniacs A5 NOTEBOOK + KEYCHAIN COLLECTION A5 Note...', 'craft maniacs 2023 jujutsu DIARY + KEYCHAIN A5 Notebook...', 'craft maniacs ANIME SPECIAL NOTEBOOKS A5 Note Book RULE...', 'craft maniacs ANIME SPECIAL NOTEBOOKS A5 Note Book RULE...', 'Osamu Tezuka: Anime & Manga Character Sketchbook', 'Jujutsu Kaisen, Vol. 4: Volume 4 - Anime Books, Jujuts...', 'Demon Slayer: Kimetsu No Yaiba, Vol. 1,2,3,4 Combo Set', 'Drawing Anime Faces and Feelings', 'Chainsaw Man Complete Box Set: Vol.1 To 11', 'Master Guide to Drawing Anime, The: Romance', 'Fairy Tales of Remnant', 'Anime Art Class: Volume 4', 'The Master Guide to Drawing Anime: Volume 1', \"The Beginner's Guide to Anime and Manga\", 'RWBY Roman Holiday', 'Anime Tarot Deck and Guidebook', 'Cook Anime', 'How to Draw Anime and Game Characters: v. 1', 'Anime & Manga Digital Coloring Guide', 'The Master Guide to Drawing Anime: Amazing Girls', 'Big Book of Drawing Anime, The', 'How To Be A Professional Anime Artist', 'Anime Impact', 'Fluent Japanese From Anime and Manga', 'The Anime Encyclopedia, 3rd Revised Edition', 'Anime Explosion!', 'Anime Cooking', 'My Dress-Up Darling Official Anime Fanbook', 'How to Draw Digital Manga and Anime', 'Manga & Anime Digital Illustration Guide', 'From Impressionism to Anime', 'From Impressionism to Anime', 'Fruits Basket: Complete Anime Natsuki Takaya Illustrati...', 'Understanding Manga and Anime', 'Overlord: The Complete Anime Artbook', 'Overlord: The Complete Anime Artbook II III', 'Attack On Titan: The Anime Guide', 'Design Your Own Anime and Manga Characters', 'Draw & Color Anime Kit', 'Anime Art Class Sketchbook', 'Drawing and Painting Anime and Manga Faces', 'BLEACH: The Official Anime Coloring Book', 'RINKON Anime Notebook Deathnote PACK 2 Comics Death not...', 'RINKON Anime Naruto Notebook Set A5 Size 160 Pages Unru...', 'Sketching from the Imagination: Anime & Manga', 'ComicSense Deathnote Book A5 Note Book 144 Pages', 'ComicSense Death Note Anime Sketchbook A5 Notebook Unru...', 'ThePaper9Store 6 cm Mix anime stickers Laptop, Phone Ca...', 'Original Mart Jump Style 3D Backpack 16Inch 2D Drawing ...', 'Tokyo Revengers Anime Members Photo cards ( Set of 14 +...', 'ComicSense Jujutsu Kaisen Anime A5 Notebook Unruled 120...', 'ThePaper9Store 6 cm Manga stickers for Laptop, Phone Ca...', 'ComicSense One Piece Anime Wanted Posters A5 Note Book ...', 'ComicSense tachi Sacrifice Naruto Anime A5 Note Book Bl...', 'ThePaper9Store 6 cm Demon Slayer stickers Laptop, Phone...', 'ComicSense Demon Slayer Anime Thunder Breathing A5 Note...', 'ComicSense Jujutsu Kaisen Anime Strongest Sorcerer Sket...', 'Spy X Family Anime Photocards ( Set of 12 + 4 Freebies ...', 'ComicSense One Piece Anime Crossroads of Six Paths Sket...', 'ComicSense Uzumaki vs Uchiha Naruto Anime A5 Note Book ...', 'bosig Jump Style 3D Backpack 16Inch 2D Drawing Anime Co...', 'ThePaper9Store 6 cm Bleach sticker Laptop, Phone Case, ...', 'Jujutsu Kaisen: The Official Anime Guide: Season 1', 'The Art of Demon Slayer: Kimetsu no Yaiba the Anime', 'KT Mart Jump Style 3D Backpack 16Inch 2D Drawing Anime ...', 'Naruto Anime Concept Photo cards ( Set of 15 + 1 Freebi...', 'ComicSense My Hero Academia Anime Heroes & Villains Ske...', 'ThePaper9Store 6 cm Tokyo revengers sticker Laptop, Pho...', 'ComicSense Kimi no Na wa Anime Sketchbook A5 Notebook U...', 'ComicSense One Piece Anime Gear 5th Bounty Sketchbook A...', 'ThePaper9Store 6 cm Jujutsu Kaisen stickers Laptop, Pho...', 'Synthiglow 42 Pcs Sketching and Drawing Kit for Artists...', 'ThePaper9Store 6 cm Naruto stickers Laptop, Phone Case,...', 'ThePaper9Store 6 cm One piece stickers Laptop, Phone Ca...', 'ThePaper9Store 6 cm Chainsaw man sticker Laptop, Phone ...', 'PurpleBees ONE PIECE LUFFY COMIC STYLE Diary A5 Diary U...', 'Bleach Anime Members Photo cards ( Set of 14 + 2 Freebi...', 'ATRI 2 inch Angel or demon, Dark night rose, Sweet cool...', 'ComicSense One Piece Anime Thousand Sunny Dream Sketchb...', 'craft maniacs A5 NOTEBOOK + KEYCHAIN COLLECTION A5 Note...', 'craft maniacs A5 NOTEBOOK + KEYCHAIN COLLECTION A5 Note...', 'craft maniacs 2023 jujutsu DIARY + KEYCHAIN A5 Notebook...', 'craft maniacs ANIME SPECIAL NOTEBOOKS A5 Note Book RULE...', 'craft maniacs ANIME SPECIAL NOTEBOOKS A5 Note Book RULE...', 'Osamu Tezuka: Anime & Manga Character Sketchbook', 'Jujutsu Kaisen, Vol. 4: Volume 4 - Anime Books, Jujuts...', 'Demon Slayer: Kimetsu No Yaiba, Vol. 1,2,3,4 Combo Set', 'Drawing Anime Faces and Feelings', 'Chainsaw Man Complete Box Set: Vol.1 To 11', 'Master Guide to Drawing Anime, The: Romance', 'Fairy Tales of Remnant', 'Anime Art Class: Volume 4', 'The Master Guide to Drawing Anime: Volume 1', \"The Beginner's Guide to Anime and Manga\", 'RWBY Roman Holiday', 'Anime Tarot Deck and Guidebook', 'Cook Anime', 'How to Draw Anime and Game Characters: v. 1', 'Anime & Manga Digital Coloring Guide', 'The Master Guide to Drawing Anime: Amazing Girls', 'Big Book of Drawing Anime, The', 'How To Be A Professional Anime Artist', 'Anime Impact', 'Fluent Japanese From Anime and Manga', 'The Anime Encyclopedia, 3rd Revised Edition', 'Anime Explosion!', 'Anime Cooking', 'My Dress-Up Darling Official Anime Fanbook', 'How to Draw Digital Manga and Anime', 'Manga & Anime Digital Illustration Guide', 'From Impressionism to Anime', 'From Impressionism to Anime', 'Fruits Basket: Complete Anime Natsuki Takaya Illustrati...', 'Understanding Manga and Anime', 'Overlord: The Complete Anime Artbook', 'Overlord: The Complete Anime Artbook II III', 'Attack On Titan: The Anime Guide', 'Design Your Own Anime and Manga Characters', 'Draw & Color Anime Kit', 'Anime Art Class Sketchbook', 'Drawing and Painting Anime and Manga Faces', 'BLEACH: The Official Anime Coloring Book', 'RINKON Anime Notebook Deathnote PACK 2 Comics Death not...', 'RINKON Anime Naruto Notebook Set A5 Size 160 Pages Unru...', 'Sketching from the Imagination: Anime & Manga', 'ComicSense Deathnote Book A5 Note Book 144 Pages', 'ComicSense Death Note Anime Sketchbook A5 Notebook Unru...', 'ThePaper9Store 6 cm Mix anime stickers Laptop, Phone Ca...', 'Original Mart Jump Style 3D Backpack 16Inch 2D Drawing ...', 'Tokyo Revengers Anime Members Photo cards ( Set of 14 +...', 'ComicSense Jujutsu Kaisen Anime A5 Notebook Unruled 120...', 'ThePaper9Store 6 cm Manga stickers for Laptop, Phone Ca...', 'ComicSense One Piece Anime Wanted Posters A5 Note Book ...', 'ComicSense tachi Sacrifice Naruto Anime A5 Note Book Bl...', 'ThePaper9Store 6 cm Demon Slayer stickers Laptop, Phone...', 'ComicSense Demon Slayer Anime Thunder Breathing A5 Note...', 'ComicSense Jujutsu Kaisen Anime Strongest Sorcerer Sket...', 'Spy X Family Anime Photocards ( Set of 12 + 4 Freebies ...', 'ComicSense One Piece Anime Crossroads of Six Paths Sket...', 'ComicSense Uzumaki vs Uchiha Naruto Anime A5 Note Book ...', 'bosig Jump Style 3D Backpack 16Inch 2D Drawing Anime Co...', 'ThePaper9Store 6 cm Bleach sticker Laptop, Phone Case, ...', 'Jujutsu Kaisen: The Official Anime Guide: Season 1', 'The Art of Demon Slayer: Kimetsu no Yaiba the Anime', 'KT Mart Jump Style 3D Backpack 16Inch 2D Drawing Anime ...', 'Naruto Anime Concept Photo cards ( Set of 15 + 1 Freebi...', 'ComicSense My Hero Academia Anime Heroes & Villains Ske...', 'ThePaper9Store 6 cm Tokyo revengers sticker Laptop, Pho...', 'ComicSense Kimi no Na wa Anime Sketchbook A5 Notebook U...', 'ComicSense One Piece Anime Gear 5th Bounty Sketchbook A...', 'ThePaper9Store 6 cm Jujutsu Kaisen stickers Laptop, Pho...', 'Synthiglow 42 Pcs Sketching and Drawing Kit for Artists...', 'ThePaper9Store 6 cm Naruto stickers Laptop, Phone Case,...', 'ThePaper9Store 6 cm One piece stickers Laptop, Phone Ca...', 'ThePaper9Store 6 cm Chainsaw man sticker Laptop, Phone ...', 'PurpleBees ONE PIECE LUFFY COMIC STYLE Diary A5 Diary U...', 'Bleach Anime Members Photo cards ( Set of 14 + 2 Freebi...', 'ATRI 2 inch Angel or demon, Dark night rose, Sweet cool...', 'ComicSense One Piece Anime Thousand Sunny Dream Sketchb...', 'craft maniacs A5 NOTEBOOK + KEYCHAIN COLLECTION A5 Note...', 'craft maniacs A5 NOTEBOOK + KEYCHAIN COLLECTION A5 Note...', 'craft maniacs 2023 jujutsu DIARY + KEYCHAIN A5 Notebook...', 'craft maniacs ANIME SPECIAL NOTEBOOKS A5 Note Book RULE...', 'craft maniacs ANIME SPECIAL NOTEBOOKS A5 Note Book RULE...', 'Osamu Tezuka: Anime & Manga Character Sketchbook', 'Jujutsu Kaisen, Vol. 4: Volume 4 - Anime Books, Jujuts...', 'Demon Slayer: Kimetsu No Yaiba, Vol. 1,2,3,4 Combo Set', 'Drawing Anime Faces and Feelings', 'Chainsaw Man Complete Box Set: Vol.1 To 11', 'Master Guide to Drawing Anime, The: Romance', 'Fairy Tales of Remnant', 'Anime Art Class: Volume 4', 'The Master Guide to Drawing Anime: Volume 1', \"The Beginner's Guide to Anime and Manga\", 'RWBY Roman Holiday', 'Anime Tarot Deck and Guidebook', 'Cook Anime', 'How to Draw Anime and Game Characters: v. 1', 'Anime & Manga Digital Coloring Guide', 'The Master Guide to Drawing Anime: Amazing Girls', 'Big Book of Drawing Anime, The', 'How To Be A Professional Anime Artist', 'Anime Impact', 'Fluent Japanese From Anime and Manga', 'The Anime Encyclopedia, 3rd Revised Edition', 'Anime Explosion!', 'Anime Cooking', 'My Dress-Up Darling Official Anime Fanbook', 'How to Draw Digital Manga and Anime', 'Manga & Anime Digital Illustration Guide', 'From Impressionism to Anime', 'From Impressionism to Anime', 'Fruits Basket: Complete Anime Natsuki Takaya Illustrati...', 'Understanding Manga and Anime', 'Overlord: The Complete Anime Artbook', 'Overlord: The Complete Anime Artbook II III', 'Attack On Titan: The Anime Guide', 'Design Your Own Anime and Manga Characters', 'Draw & Color Anime Kit', 'Anime Art Class Sketchbook', 'Drawing and Painting Anime and Manga Faces', 'BLEACH: The Official Anime Coloring Book', 'RINKON Anime Notebook Deathnote PACK 2 Comics Death not...', 'RINKON Anime Naruto Notebook Set A5 Size 160 Pages Unru...', 'Sketching from the Imagination: Anime & Manga', 'ComicSense Deathnote Book A5 Note Book 144 Pages', 'ComicSense Death Note Anime Sketchbook A5 Notebook Unru...', 'ThePaper9Store 6 cm Mix anime stickers Laptop, Phone Ca...', 'Original Mart Jump Style 3D Backpack 16Inch 2D Drawing ...', 'Tokyo Revengers Anime Members Photo cards ( Set of 14 +...', 'ComicSense Jujutsu Kaisen Anime A5 Notebook Unruled 120...', 'ThePaper9Store 6 cm Manga stickers for Laptop, Phone Ca...', 'ComicSense One Piece Anime Wanted Posters A5 Note Book ...', 'ComicSense tachi Sacrifice Naruto Anime A5 Note Book Bl...', 'ThePaper9Store 6 cm Demon Slayer stickers Laptop, Phone...', 'ComicSense Demon Slayer Anime Thunder Breathing A5 Note...', 'ComicSense Jujutsu Kaisen Anime Strongest Sorcerer Sket...', 'Spy X Family Anime Photocards ( Set of 12 + 4 Freebies ...', 'ComicSense One Piece Anime Crossroads of Six Paths Sket...', 'ComicSense Uzumaki vs Uchiha Naruto Anime A5 Note Book ...', 'bosig Jump Style 3D Backpack 16Inch 2D Drawing Anime Co...', 'ThePaper9Store 6 cm Bleach sticker Laptop, Phone Case, ...', 'Jujutsu Kaisen: The Official Anime Guide: Season 1', 'The Art of Demon Slayer: Kimetsu no Yaiba the Anime', 'KT Mart Jump Style 3D Backpack 16Inch 2D Drawing Anime ...', 'Naruto Anime Concept Photo cards ( Set of 15 + 1 Freebi...', 'ComicSense My Hero Academia Anime Heroes & Villains Ske...', 'ThePaper9Store 6 cm Tokyo revengers sticker Laptop, Pho...', 'ComicSense Kimi no Na wa Anime Sketchbook A5 Notebook U...', 'ComicSense One Piece Anime Gear 5th Bounty Sketchbook A...', 'ThePaper9Store 6 cm Jujutsu Kaisen stickers Laptop, Pho...', 'Synthiglow 42 Pcs Sketching and Drawing Kit for Artists...', 'ThePaper9Store 6 cm Naruto stickers Laptop, Phone Case,...', 'ThePaper9Store 6 cm One piece stickers Laptop, Phone Ca...', 'ThePaper9Store 6 cm Chainsaw man sticker Laptop, Phone ...', 'PurpleBees ONE PIECE LUFFY COMIC STYLE Diary A5 Diary U...', 'Bleach Anime Members Photo cards ( Set of 14 + 2 Freebi...', 'ATRI 2 inch Angel or demon, Dark night rose, Sweet cool...', 'ComicSense One Piece Anime Thousand Sunny Dream Sketchb...', 'craft maniacs A5 NOTEBOOK + KEYCHAIN COLLECTION A5 Note...', 'craft maniacs A5 NOTEBOOK + KEYCHAIN COLLECTION A5 Note...', 'craft maniacs 2023 jujutsu DIARY + KEYCHAIN A5 Notebook...', 'craft maniacs ANIME SPECIAL NOTEBOOKS A5 Note Book RULE...', 'craft maniacs ANIME SPECIAL NOTEBOOKS A5 Note Book RULE...', 'Osamu Tezuka: Anime & Manga Character Sketchbook', 'Jujutsu Kaisen, Vol. 4: Volume 4 - Anime Books, Jujuts...', 'Demon Slayer: Kimetsu No Yaiba, Vol. 1,2,3,4 Combo Set', 'Drawing Anime Faces and Feelings', 'Chainsaw Man Complete Box Set: Vol.1 To 11', 'Master Guide to Drawing Anime, The: Romance', 'Fairy Tales of Remnant', 'Anime Art Class: Volume 4', 'The Master Guide to Drawing Anime: Volume 1', \"The Beginner's Guide to Anime and Manga\", 'RWBY Roman Holiday', 'Anime Tarot Deck and Guidebook', 'Cook Anime', 'How to Draw Anime and Game Characters: v. 1', 'Anime & Manga Digital Coloring Guide', 'The Master Guide to Drawing Anime: Amazing Girls', 'Big Book of Drawing Anime, The', 'How To Be A Professional Anime Artist', 'Anime Impact', 'Fluent Japanese From Anime and Manga', 'The Anime Encyclopedia, 3rd Revised Edition', 'Anime Explosion!', 'Anime Cooking', 'My Dress-Up Darling Official Anime Fanbook', 'How to Draw Digital Manga and Anime', 'Manga & Anime Digital Illustration Guide', 'From Impressionism to Anime', 'From Impressionism to Anime', 'Fruits Basket: Complete Anime Natsuki Takaya Illustrati...', 'Understanding Manga and Anime', 'Overlord: The Complete Anime Artbook', 'Overlord: The Complete Anime Artbook II III', 'Attack On Titan: The Anime Guide', 'Design Your Own Anime and Manga Characters', 'Draw & Color Anime Kit', 'Anime Art Class Sketchbook', 'Drawing and Painting Anime and Manga Faces', 'BLEACH: The Official Anime Coloring Book', 'RINKON Anime Notebook Deathnote PACK 2 Comics Death not...', 'RINKON Anime Naruto Notebook Set A5 Size 160 Pages Unru...', 'Sketching from the Imagination: Anime & Manga', 'ComicSense Deathnote Book A5 Note Book 144 Pages', 'ComicSense Death Note Anime Sketchbook A5 Notebook Unru...', 'ThePaper9Store 6 cm Mix anime stickers Laptop, Phone Ca...', 'Original Mart Jump Style 3D Backpack 16Inch 2D Drawing ...', 'Tokyo Revengers Anime Members Photo cards ( Set of 14 +...', 'ComicSense Jujutsu Kaisen Anime A5 Notebook Unruled 120...', 'ThePaper9Store 6 cm Manga stickers for Laptop, Phone Ca...', 'ComicSense One Piece Anime Wanted Posters A5 Note Book ...', 'ComicSense tachi Sacrifice Naruto Anime A5 Note Book Bl...', 'ThePaper9Store 6 cm Demon Slayer stickers Laptop, Phone...', 'ComicSense Demon Slayer Anime Thunder Breathing A5 Note...', 'ComicSense Jujutsu Kaisen Anime Strongest Sorcerer Sket...', 'Spy X Family Anime Photocards ( Set of 12 + 4 Freebies ...', 'ComicSense One Piece Anime Crossroads of Six Paths Sket...', 'ComicSense Uzumaki vs Uchiha Naruto Anime A5 Note Book ...', 'bosig Jump Style 3D Backpack 16Inch 2D Drawing Anime Co...', 'ThePaper9Store 6 cm Bleach sticker Laptop, Phone Case, ...', 'Jujutsu Kaisen: The Official Anime Guide: Season 1', 'The Art of Demon Slayer: Kimetsu no Yaiba the Anime', 'KT Mart Jump Style 3D Backpack 16Inch 2D Drawing Anime ...', 'Naruto Anime Concept Photo cards ( Set of 15 + 1 Freebi...', 'ComicSense My Hero Academia Anime Heroes & Villains Ske...', 'ThePaper9Store 6 cm Tokyo revengers sticker Laptop, Pho...', 'ComicSense Kimi no Na wa Anime Sketchbook A5 Notebook U...', 'ComicSense One Piece Anime Gear 5th Bounty Sketchbook A...', 'ThePaper9Store 6 cm Jujutsu Kaisen stickers Laptop, Pho...', 'Synthiglow 42 Pcs Sketching and Drawing Kit for Artists...', 'ThePaper9Store 6 cm Naruto stickers Laptop, Phone Case,...', 'ThePaper9Store 6 cm One piece stickers Laptop, Phone Ca...', 'ThePaper9Store 6 cm Chainsaw man sticker Laptop, Phone ...', 'PurpleBees ONE PIECE LUFFY COMIC STYLE Diary A5 Diary U...', 'Bleach Anime Members Photo cards ( Set of 14 + 2 Freebi...', 'ATRI 2 inch Angel or demon, Dark night rose, Sweet cool...', 'ComicSense One Piece Anime Thousand Sunny Dream Sketchb...', 'craft maniacs A5 NOTEBOOK + KEYCHAIN COLLECTION A5 Note...', 'craft maniacs A5 NOTEBOOK + KEYCHAIN COLLECTION A5 Note...', 'craft maniacs 2023 jujutsu DIARY + KEYCHAIN A5 Notebook...', 'craft maniacs ANIME SPECIAL NOTEBOOKS A5 Note Book RULE...', 'craft maniacs ANIME SPECIAL NOTEBOOKS A5 Note Book RULE...', 'Osamu Tezuka: Anime & Manga Character Sketchbook', 'Jujutsu Kaisen, Vol. 4: Volume 4 - Anime Books, Jujuts...', 'Demon Slayer: Kimetsu No Yaiba, Vol. 1,2,3,4 Combo Set', 'Drawing Anime Faces and Feelings', 'Chainsaw Man Complete Box Set: Vol.1 To 11', 'Master Guide to Drawing Anime, The: Romance', 'Fairy Tales of Remnant', 'Anime Art Class: Volume 4', 'The Master Guide to Drawing Anime: Volume 1', \"The Beginner's Guide to Anime and Manga\", 'RWBY Roman Holiday', 'Anime Tarot Deck and Guidebook', 'Cook Anime', 'How to Draw Anime and Game Characters: v. 1', 'Anime & Manga Digital Coloring Guide', 'The Master Guide to Drawing Anime: Amazing Girls', 'Big Book of Drawing Anime, The', 'How To Be A Professional Anime Artist', 'Anime Impact', 'Fluent Japanese From Anime and Manga', 'The Anime Encyclopedia, 3rd Revised Edition', 'Anime Explosion!', 'Anime Cooking', 'My Dress-Up Darling Official Anime Fanbook', 'How to Draw Digital Manga and Anime', 'Manga & Anime Digital Illustration Guide', 'From Impressionism to Anime', 'From Impressionism to Anime', 'Fruits Basket: Complete Anime Natsuki Takaya Illustrati...', 'Understanding Manga and Anime', 'Overlord: The Complete Anime Artbook', 'Overlord: The Complete Anime Artbook II III', 'Attack On Titan: The Anime Guide', 'Design Your Own Anime and Manga Characters', 'Draw & Color Anime Kit', 'Anime Art Class Sketchbook', 'Drawing and Painting Anime and Manga Faces', 'BLEACH: The Official Anime Coloring Book', 'RINKON Anime Notebook Deathnote PACK 2 Comics Death not...', 'RINKON Anime Naruto Notebook Set A5 Size 160 Pages Unru...', 'Sketching from the Imagination: Anime & Manga', 'ComicSense Deathnote Book A5 Note Book 144 Pages', 'ComicSense Death Note Anime Sketchbook A5 Notebook Unru...', 'ThePaper9Store 6 cm Mix anime stickers Laptop, Phone Ca...', 'Original Mart Jump Style 3D Backpack 16Inch 2D Drawing ...', 'Tokyo Revengers Anime Members Photo cards ( Set of 14 +...', 'ComicSense Jujutsu Kaisen Anime A5 Notebook Unruled 120...', 'ThePaper9Store 6 cm Manga stickers for Laptop, Phone Ca...', 'ComicSense One Piece Anime Wanted Posters A5 Note Book ...', 'ComicSense tachi Sacrifice Naruto Anime A5 Note Book Bl...', 'ThePaper9Store 6 cm Demon Slayer stickers Laptop, Phone...', 'ComicSense Demon Slayer Anime Thunder Breathing A5 Note...', 'ComicSense Jujutsu Kaisen Anime Strongest Sorcerer Sket...', 'Spy X Family Anime Photocards ( Set of 12 + 4 Freebies ...', 'ComicSense One Piece Anime Crossroads of Six Paths Sket...', 'ComicSense Uzumaki vs Uchiha Naruto Anime A5 Note Book ...', 'bosig Jump Style 3D Backpack 16Inch 2D Drawing Anime Co...', 'ThePaper9Store 6 cm Bleach sticker Laptop, Phone Case, ...', 'Jujutsu Kaisen: The Official Anime Guide: Season 1', 'The Art of Demon Slayer: Kimetsu no Yaiba the Anime', 'KT Mart Jump Style 3D Backpack 16Inch 2D Drawing Anime ...', 'Naruto Anime Concept Photo cards ( Set of 15 + 1 Freebi...', 'ComicSense My Hero Academia Anime Heroes & Villains Ske...', 'ThePaper9Store 6 cm Tokyo revengers sticker Laptop, Pho...', 'ComicSense Kimi no Na wa Anime Sketchbook A5 Notebook U...', 'ComicSense One Piece Anime Gear 5th Bounty Sketchbook A...', 'ThePaper9Store 6 cm Jujutsu Kaisen stickers Laptop, Pho...', 'Synthiglow 42 Pcs Sketching and Drawing Kit for Artists...', 'ThePaper9Store 6 cm Naruto stickers Laptop, Phone Case,...', 'ThePaper9Store 6 cm One piece stickers Laptop, Phone Ca...', 'ThePaper9Store 6 cm Chainsaw man sticker Laptop, Phone ...', 'PurpleBees ONE PIECE LUFFY COMIC STYLE Diary A5 Diary U...', 'Bleach Anime Members Photo cards ( Set of 14 + 2 Freebi...', 'ATRI 2 inch Angel or demon, Dark night rose, Sweet cool...', 'ComicSense One Piece Anime Thousand Sunny Dream Sketchb...', 'craft maniacs A5 NOTEBOOK + KEYCHAIN COLLECTION A5 Note...', 'craft maniacs A5 NOTEBOOK + KEYCHAIN COLLECTION A5 Note...', 'craft maniacs 2023 jujutsu DIARY + KEYCHAIN A5 Notebook...', 'craft maniacs ANIME SPECIAL NOTEBOOKS A5 Note Book RULE...', 'craft maniacs ANIME SPECIAL NOTEBOOKS A5 Note Book RULE...', 'Osamu Tezuka: Anime & Manga Character Sketchbook', 'Jujutsu Kaisen, Vol. 4: Volume 4 - Anime Books, Jujuts...', 'Demon Slayer: Kimetsu No Yaiba, Vol. 1,2,3,4 Combo Set', 'Drawing Anime Faces and Feelings', 'Chainsaw Man Complete Box Set: Vol.1 To 11', 'Master Guide to Drawing Anime, The: Romance', 'Fairy Tales of Remnant', 'Anime Art Class: Volume 4', 'The Master Guide to Drawing Anime: Volume 1', \"The Beginner's Guide to Anime and Manga\", 'RWBY Roman Holiday', 'Anime Tarot Deck and Guidebook', 'Cook Anime', 'How to Draw Anime and Game Characters: v. 1', 'Anime & Manga Digital Coloring Guide', 'The Master Guide to Drawing Anime: Amazing Girls', 'Big Book of Drawing Anime, The', 'How To Be A Professional Anime Artist', 'Anime Impact', 'Fluent Japanese From Anime and Manga', 'The Anime Encyclopedia, 3rd Revised Edition', 'Anime Explosion!', 'Anime Cooking', 'My Dress-Up Darling Official Anime Fanbook', 'How to Draw Digital Manga and Anime', 'Manga & Anime Digital Illustration Guide', 'From Impressionism to Anime', 'From Impressionism to Anime', 'Fruits Basket: Complete Anime Natsuki Takaya Illustrati...', 'Understanding Manga and Anime', 'Overlord: The Complete Anime Artbook', 'Overlord: The Complete Anime Artbook II III', 'Attack On Titan: The Anime Guide', 'Design Your Own Anime and Manga Characters', 'Draw & Color Anime Kit', 'Anime Art Class Sketchbook', 'Drawing and Painting Anime and Manga Faces', 'BLEACH: The Official Anime Coloring Book', 'RINKON Anime Notebook Deathnote PACK 2 Comics Death not...', 'RINKON Anime Naruto Notebook Set A5 Size 160 Pages Unru...', 'Sketching from the Imagination: Anime & Manga', 'ComicSense Deathnote Book A5 Note Book 144 Pages', 'ComicSense Death Note Anime Sketchbook A5 Notebook Unru...', 'ThePaper9Store 6 cm Mix anime stickers Laptop, Phone Ca...', 'Original Mart Jump Style 3D Backpack 16Inch 2D Drawing ...', 'Tokyo Revengers Anime Members Photo cards ( Set of 14 +...', 'ComicSense Jujutsu Kaisen Anime A5 Notebook Unruled 120...', 'ThePaper9Store 6 cm Manga stickers for Laptop, Phone Ca...', 'ComicSense One Piece Anime Wanted Posters A5 Note Book ...', 'ComicSense tachi Sacrifice Naruto Anime A5 Note Book Bl...', 'ThePaper9Store 6 cm Demon Slayer stickers Laptop, Phone...', 'ComicSense Demon Slayer Anime Thunder Breathing A5 Note...', 'ComicSense Jujutsu Kaisen Anime Strongest Sorcerer Sket...', 'Spy X Family Anime Photocards ( Set of 12 + 4 Freebies ...', 'ComicSense One Piece Anime Crossroads of Six Paths Sket...', 'ComicSense Uzumaki vs Uchiha Naruto Anime A5 Note Book ...', 'bosig Jump Style 3D Backpack 16Inch 2D Drawing Anime Co...', 'ThePaper9Store 6 cm Bleach sticker Laptop, Phone Case, ...', 'Jujutsu Kaisen: The Official Anime Guide: Season 1', 'The Art of Demon Slayer: Kimetsu no Yaiba the Anime', 'KT Mart Jump Style 3D Backpack 16Inch 2D Drawing Anime ...', 'Naruto Anime Concept Photo cards ( Set of 15 + 1 Freebi...', 'ComicSense My Hero Academia Anime Heroes & Villains Ske...', 'ThePaper9Store 6 cm Tokyo revengers sticker Laptop, Pho...', 'ComicSense Kimi no Na wa Anime Sketchbook A5 Notebook U...', 'ComicSense One Piece Anime Gear 5th Bounty Sketchbook A...', 'ThePaper9Store 6 cm Jujutsu Kaisen stickers Laptop, Pho...', 'Synthiglow 42 Pcs Sketching and Drawing Kit for Artists...', 'ThePaper9Store 6 cm Naruto stickers Laptop, Phone Case,...', 'ThePaper9Store 6 cm One piece stickers Laptop, Phone Ca...', 'ThePaper9Store 6 cm Chainsaw man sticker Laptop, Phone ...', 'PurpleBees ONE PIECE LUFFY COMIC STYLE Diary A5 Diary U...', 'Bleach Anime Members Photo cards ( Set of 14 + 2 Freebi...', 'ATRI 2 inch Angel or demon, Dark night rose, Sweet cool...', 'ComicSense One Piece Anime Thousand Sunny Dream Sketchb...', 'craft maniacs A5 NOTEBOOK + KEYCHAIN COLLECTION A5 Note...', 'craft maniacs A5 NOTEBOOK + KEYCHAIN COLLECTION A5 Note...', 'craft maniacs 2023 jujutsu DIARY + KEYCHAIN A5 Notebook...', 'craft maniacs ANIME SPECIAL NOTEBOOKS A5 Note Book RULE...', 'craft maniacs ANIME SPECIAL NOTEBOOKS A5 Note Book RULE...', 'Osamu Tezuka: Anime & Manga Character Sketchbook', 'Jujutsu Kaisen, Vol. 4: Volume 4 - Anime Books, Jujuts...', 'Demon Slayer: Kimetsu No Yaiba, Vol. 1,2,3,4 Combo Set', 'Drawing Anime Faces and Feelings', 'Chainsaw Man Complete Box Set: Vol.1 To 11', 'Master Guide to Drawing Anime, The: Romance', 'Fairy Tales of Remnant', 'Anime Art Class: Volume 4', 'The Master Guide to Drawing Anime: Volume 1', \"The Beginner's Guide to Anime and Manga\", 'RWBY Roman Holiday', 'Anime Tarot Deck and Guidebook', 'Cook Anime', 'How to Draw Anime and Game Characters: v. 1', 'Anime & Manga Digital Coloring Guide', 'The Master Guide to Drawing Anime: Amazing Girls', 'Big Book of Drawing Anime, The', 'How To Be A Professional Anime Artist', 'Anime Impact', 'Fluent Japanese From Anime and Manga', 'The Anime Encyclopedia, 3rd Revised Edition', 'Anime Explosion!', 'Anime Cooking', 'My Dress-Up Darling Official Anime Fanbook', 'How to Draw Digital Manga and Anime', 'Manga & Anime Digital Illustration Guide', 'From Impressionism to Anime', 'From Impressionism to Anime', 'Fruits Basket: Complete Anime Natsuki Takaya Illustrati...', 'Understanding Manga and Anime', 'Overlord: The Complete Anime Artbook', 'Overlord: The Complete Anime Artbook II III', 'Attack On Titan: The Anime Guide', 'Design Your Own Anime and Manga Characters', 'Draw & Color Anime Kit', 'Anime Art Class Sketchbook', 'Drawing and Painting Anime and Manga Faces', 'BLEACH: The Official Anime Coloring Book', 'RINKON Anime Notebook Deathnote PACK 2 Comics Death not...', 'RINKON Anime Naruto Notebook Set A5 Size 160 Pages Unru...', 'Sketching from the Imagination: Anime & Manga', 'ComicSense Deathnote Book A5 Note Book 144 Pages', 'ComicSense Death Note Anime Sketchbook A5 Notebook Unru...', 'ThePaper9Store 6 cm Mix anime stickers Laptop, Phone Ca...', 'Original Mart Jump Style 3D Backpack 16Inch 2D Drawing ...', 'Tokyo Revengers Anime Members Photo cards ( Set of 14 +...', 'ComicSense Jujutsu Kaisen Anime A5 Notebook Unruled 120...', 'ThePaper9Store 6 cm Manga stickers for Laptop, Phone Ca...', 'ComicSense One Piece Anime Wanted Posters A5 Note Book ...', 'ComicSense tachi Sacrifice Naruto Anime A5 Note Book Bl...', 'ThePaper9Store 6 cm Demon Slayer stickers Laptop, Phone...', 'ComicSense Demon Slayer Anime Thunder Breathing A5 Note...', 'ComicSense Jujutsu Kaisen Anime Strongest Sorcerer Sket...', 'Spy X Family Anime Photocards ( Set of 12 + 4 Freebies ...', 'ComicSense One Piece Anime Crossroads of Six Paths Sket...', 'ComicSense Uzumaki vs Uchiha Naruto Anime A5 Note Book ...', 'bosig Jump Style 3D Backpack 16Inch 2D Drawing Anime Co...', 'ThePaper9Store 6 cm Bleach sticker Laptop, Phone Case, ...', 'Jujutsu Kaisen: The Official Anime Guide: Season 1', 'The Art of Demon Slayer: Kimetsu no Yaiba the Anime', 'KT Mart Jump Style 3D Backpack 16Inch 2D Drawing Anime ...', 'Naruto Anime Concept Photo cards ( Set of 15 + 1 Freebi...', 'ComicSense My Hero Academia Anime Heroes & Villains Ske...', 'ThePaper9Store 6 cm Tokyo revengers sticker Laptop, Pho...', 'ComicSense Kimi no Na wa Anime Sketchbook A5 Notebook U...', 'ComicSense One Piece Anime Gear 5th Bounty Sketchbook A...', 'ThePaper9Store 6 cm Jujutsu Kaisen stickers Laptop, Pho...', 'Synthiglow 42 Pcs Sketching and Drawing Kit for Artists...', 'ThePaper9Store 6 cm Naruto stickers Laptop, Phone Case,...', 'ThePaper9Store 6 cm One piece stickers Laptop, Phone Ca...', 'ThePaper9Store 6 cm Chainsaw man sticker Laptop, Phone ...', 'PurpleBees ONE PIECE LUFFY COMIC STYLE Diary A5 Diary U...', 'Bleach Anime Members Photo cards ( Set of 14 + 2 Freebi...', 'ATRI 2 inch Angel or demon, Dark night rose, Sweet cool...', 'ComicSense One Piece Anime Thousand Sunny Dream Sketchb...', 'craft maniacs A5 NOTEBOOK + KEYCHAIN COLLECTION A5 Note...', 'craft maniacs A5 NOTEBOOK + KEYCHAIN COLLECTION A5 Note...', 'craft maniacs 2023 jujutsu DIARY + KEYCHAIN A5 Notebook...', 'craft maniacs ANIME SPECIAL NOTEBOOKS A5 Note Book RULE...', 'craft maniacs ANIME SPECIAL NOTEBOOKS A5 Note Book RULE...', 'Osamu Tezuka: Anime & Manga Character Sketchbook', 'Jujutsu Kaisen, Vol. 4: Volume 4 - Anime Books, Jujuts...', 'Demon Slayer: Kimetsu No Yaiba, Vol. 1,2,3,4 Combo Set', 'Drawing Anime Faces and Feelings', 'Chainsaw Man Complete Box Set: Vol.1 To 11', 'Master Guide to Drawing Anime, The: Romance', 'Fairy Tales of Remnant', 'Anime Art Class: Volume 4', 'The Master Guide to Drawing Anime: Volume 1', \"The Beginner's Guide to Anime and Manga\", 'RWBY Roman Holiday', 'Anime Tarot Deck and Guidebook', 'Cook Anime', 'How to Draw Anime and Game Characters: v. 1', 'Anime & Manga Digital Coloring Guide', 'The Master Guide to Drawing Anime: Amazing Girls', 'Big Book of Drawing Anime, The', 'How To Be A Professional Anime Artist', 'Anime Impact', 'Fluent Japanese From Anime and Manga', 'The Anime Encyclopedia, 3rd Revised Edition', 'Anime Explosion!', 'Anime Cooking', 'My Dress-Up Darling Official Anime Fanbook', 'How to Draw Digital Manga and Anime', 'Manga & Anime Digital Illustration Guide', 'From Impressionism to Anime', 'From Impressionism to Anime', 'Fruits Basket: Complete Anime Natsuki Takaya Illustrati...', 'Understanding Manga and Anime', 'Overlord: The Complete Anime Artbook', 'Overlord: The Complete Anime Artbook II III', 'Attack On Titan: The Anime Guide', 'Design Your Own Anime and Manga Characters', 'Draw & Color Anime Kit', 'Anime Art Class Sketchbook', 'Drawing and Painting Anime and Manga Faces', 'BLEACH: The Official Anime Coloring Book', 'RINKON Anime Notebook Deathnote PACK 2 Comics Death not...', 'RINKON Anime Naruto Notebook Set A5 Size 160 Pages Unru...', 'Sketching from the Imagination: Anime & Manga', 'ComicSense Deathnote Book A5 Note Book 144 Pages', 'ComicSense Death Note Anime Sketchbook A5 Notebook Unru...', 'ThePaper9Store 6 cm Mix anime stickers Laptop, Phone Ca...', 'Original Mart Jump Style 3D Backpack 16Inch 2D Drawing ...', 'Tokyo Revengers Anime Members Photo cards ( Set of 14 +...', 'ComicSense Jujutsu Kaisen Anime A5 Notebook Unruled 120...', 'ThePaper9Store 6 cm Manga stickers for Laptop, Phone Ca...', 'ComicSense One Piece Anime Wanted Posters A5 Note Book ...', 'ComicSense tachi Sacrifice Naruto Anime A5 Note Book Bl...', 'ThePaper9Store 6 cm Demon Slayer stickers Laptop, Phone...', 'ComicSense Demon Slayer Anime Thunder Breathing A5 Note...', 'ComicSense Jujutsu Kaisen Anime Strongest Sorcerer Sket...', 'Spy X Family Anime Photocards ( Set of 12 + 4 Freebies ...', 'ComicSense One Piece Anime Crossroads of Six Paths Sket...', 'ComicSense Uzumaki vs Uchiha Naruto Anime A5 Note Book ...', 'bosig Jump Style 3D Backpack 16Inch 2D Drawing Anime Co...', 'ThePaper9Store 6 cm Bleach sticker Laptop, Phone Case, ...', 'Jujutsu Kaisen: The Official Anime Guide: Season 1', 'The Art of Demon Slayer: Kimetsu no Yaiba the Anime', 'KT Mart Jump Style 3D Backpack 16Inch 2D Drawing Anime ...', 'Naruto Anime Concept Photo cards ( Set of 15 + 1 Freebi...', 'ComicSense My Hero Academia Anime Heroes & Villains Ske...', 'ThePaper9Store 6 cm Tokyo revengers sticker Laptop, Pho...', 'ComicSense Kimi no Na wa Anime Sketchbook A5 Notebook U...', 'ComicSense One Piece Anime Gear 5th Bounty Sketchbook A...', 'ThePaper9Store 6 cm Jujutsu Kaisen stickers Laptop, Pho...', 'Synthiglow 42 Pcs Sketching and Drawing Kit for Artists...', 'ThePaper9Store 6 cm Naruto stickers Laptop, Phone Case,...', 'ThePaper9Store 6 cm One piece stickers Laptop, Phone Ca...', 'ThePaper9Store 6 cm Chainsaw man sticker Laptop, Phone ...', 'PurpleBees ONE PIECE LUFFY COMIC STYLE Diary A5 Diary U...', 'Bleach Anime Members Photo cards ( Set of 14 + 2 Freebi...', 'ATRI 2 inch Angel or demon, Dark night rose, Sweet cool...', 'ComicSense One Piece Anime Thousand Sunny Dream Sketchb...', 'craft maniacs A5 NOTEBOOK + KEYCHAIN COLLECTION A5 Note...', 'craft maniacs A5 NOTEBOOK + KEYCHAIN COLLECTION A5 Note...', 'craft maniacs 2023 jujutsu DIARY + KEYCHAIN A5 Notebook...', 'craft maniacs ANIME SPECIAL NOTEBOOKS A5 Note Book RULE...', 'craft maniacs ANIME SPECIAL NOTEBOOKS A5 Note Book RULE...', 'Osamu Tezuka: Anime & Manga Character Sketchbook', 'Jujutsu Kaisen, Vol. 4: Volume 4 - Anime Books, Jujuts...', 'Demon Slayer: Kimetsu No Yaiba, Vol. 1,2,3,4 Combo Set', 'Drawing Anime Faces and Feelings', 'Chainsaw Man Complete Box Set: Vol.1 To 11', 'Master Guide to Drawing Anime, The: Romance', 'Fairy Tales of Remnant', 'Anime Art Class: Volume 4', 'The Master Guide to Drawing Anime: Volume 1', \"The Beginner's Guide to Anime and Manga\", 'RWBY Roman Holiday', 'Anime Tarot Deck and Guidebook', 'Cook Anime', 'How to Draw Anime and Game Characters: v. 1', 'Anime & Manga Digital Coloring Guide', 'The Master Guide to Drawing Anime: Amazing Girls', 'Big Book of Drawing Anime, The', 'How To Be A Professional Anime Artist', 'Anime Impact', 'Fluent Japanese From Anime and Manga', 'The Anime Encyclopedia, 3rd Revised Edition', 'Anime Explosion!', 'Anime Cooking', 'My Dress-Up Darling Official Anime Fanbook', 'How to Draw Digital Manga and Anime', 'Manga & Anime Digital Illustration Guide', 'From Impressionism to Anime', 'From Impressionism to Anime', 'Fruits Basket: Complete Anime Natsuki Takaya Illustrati...', 'Understanding Manga and Anime', 'Overlord: The Complete Anime Artbook', 'Overlord: The Complete Anime Artbook II III', 'Attack On Titan: The Anime Guide', 'Design Your Own Anime and Manga Characters', 'Draw & Color Anime Kit', 'Anime Art Class Sketchbook', 'Drawing and Painting Anime and Manga Faces', 'BLEACH: The Official Anime Coloring Book', 'RINKON Anime Notebook Deathnote PACK 2 Comics Death not...', 'RINKON Anime Naruto Notebook Set A5 Size 160 Pages Unru...', 'Sketching from the Imagination: Anime & Manga', 'ComicSense Deathnote Book A5 Note Book 144 Pages', 'ComicSense Death Note Anime Sketchbook A5 Notebook Unru...', 'ThePaper9Store 6 cm Mix anime stickers Laptop, Phone Ca...', 'Original Mart Jump Style 3D Backpack 16Inch 2D Drawing ...', 'Tokyo Revengers Anime Members Photo cards ( Set of 14 +...', 'ComicSense Jujutsu Kaisen Anime A5 Notebook Unruled 120...', 'ThePaper9Store 6 cm Manga stickers for Laptop, Phone Ca...', 'ComicSense One Piece Anime Wanted Posters A5 Note Book ...', 'ComicSense tachi Sacrifice Naruto Anime A5 Note Book Bl...', 'ThePaper9Store 6 cm Demon Slayer stickers Laptop, Phone...', 'ComicSense Demon Slayer Anime Thunder Breathing A5 Note...', 'ComicSense Jujutsu Kaisen Anime Strongest Sorcerer Sket...', 'Spy X Family Anime Photocards ( Set of 12 + 4 Freebies ...', 'ComicSense One Piece Anime Crossroads of Six Paths Sket...', 'ComicSense Uzumaki vs Uchiha Naruto Anime A5 Note Book ...', 'bosig Jump Style 3D Backpack 16Inch 2D Drawing Anime Co...', 'ThePaper9Store 6 cm Bleach sticker Laptop, Phone Case, ...', 'Jujutsu Kaisen: The Official Anime Guide: Season 1', 'The Art of Demon Slayer: Kimetsu no Yaiba the Anime', 'KT Mart Jump Style 3D Backpack 16Inch 2D Drawing Anime ...', 'Naruto Anime Concept Photo cards ( Set of 15 + 1 Freebi...', 'ComicSense My Hero Academia Anime Heroes & Villains Ske...', 'ThePaper9Store 6 cm Tokyo revengers sticker Laptop, Pho...', 'ComicSense Kimi no Na wa Anime Sketchbook A5 Notebook U...', 'ComicSense One Piece Anime Gear 5th Bounty Sketchbook A...', 'ThePaper9Store 6 cm Jujutsu Kaisen stickers Laptop, Pho...', 'Synthiglow 42 Pcs Sketching and Drawing Kit for Artists...', 'ThePaper9Store 6 cm Naruto stickers Laptop, Phone Case,...', 'ThePaper9Store 6 cm One piece stickers Laptop, Phone Ca...', 'ThePaper9Store 6 cm Chainsaw man sticker Laptop, Phone ...', 'PurpleBees ONE PIECE LUFFY COMIC STYLE Diary A5 Diary U...', 'Bleach Anime Members Photo cards ( Set of 14 + 2 Freebi...', 'ATRI 2 inch Angel or demon, Dark night rose, Sweet cool...', 'ComicSense One Piece Anime Thousand Sunny Dream Sketchb...', 'craft maniacs A5 NOTEBOOK + KEYCHAIN COLLECTION A5 Note...', 'craft maniacs A5 NOTEBOOK + KEYCHAIN COLLECTION A5 Note...', 'craft maniacs 2023 jujutsu DIARY + KEYCHAIN A5 Notebook...', 'craft maniacs ANIME SPECIAL NOTEBOOKS A5 Note Book RULE...', 'craft maniacs ANIME SPECIAL NOTEBOOKS A5 Note Book RULE...', 'Osamu Tezuka: Anime & Manga Character Sketchbook', 'Jujutsu Kaisen, Vol. 4: Volume 4 - Anime Books, Jujuts...', 'Demon Slayer: Kimetsu No Yaiba, Vol. 1,2,3,4 Combo Set', 'Drawing Anime Faces and Feelings', 'Chainsaw Man Complete Box Set: Vol.1 To 11', 'Master Guide to Drawing Anime, The: Romance', 'Fairy Tales of Remnant', 'Anime Art Class: Volume 4', 'The Master Guide to Drawing Anime: Volume 1', \"The Beginner's Guide to Anime and Manga\", 'RWBY Roman Holiday', 'Anime Tarot Deck and Guidebook', 'Cook Anime', 'How to Draw Anime and Game Characters: v. 1', 'Anime & Manga Digital Coloring Guide', 'The Master Guide to Drawing Anime: Amazing Girls', 'Big Book of Drawing Anime, The', 'How To Be A Professional Anime Artist', 'Anime Impact', 'Fluent Japanese From Anime and Manga', 'The Anime Encyclopedia, 3rd Revised Edition', 'Anime Explosion!', 'Anime Cooking', 'My Dress-Up Darling Official Anime Fanbook', 'How to Draw Digital Manga and Anime', 'Manga & Anime Digital Illustration Guide', 'From Impressionism to Anime', 'From Impressionism to Anime', 'Fruits Basket: Complete Anime Natsuki Takaya Illustrati...', 'Understanding Manga and Anime', 'Overlord: The Complete Anime Artbook', 'Overlord: The Complete Anime Artbook II III', 'Attack On Titan: The Anime Guide', 'Design Your Own Anime and Manga Characters', 'Draw & Color Anime Kit', 'Anime Art Class Sketchbook', 'Drawing and Painting Anime and Manga Faces', 'BLEACH: The Official Anime Coloring Book', 'RINKON Anime Notebook Deathnote PACK 2 Comics Death not...', 'RINKON Anime Naruto Notebook Set A5 Size 160 Pages Unru...', 'Sketching from the Imagination: Anime & Manga', 'ComicSense Deathnote Book A5 Note Book 144 Pages', 'ComicSense Death Note Anime Sketchbook A5 Notebook Unru...', 'ThePaper9Store 6 cm Mix anime stickers Laptop, Phone Ca...', 'Original Mart Jump Style 3D Backpack 16Inch 2D Drawing ...', 'Tokyo Revengers Anime Members Photo cards ( Set of 14 +...', 'ComicSense Jujutsu Kaisen Anime A5 Notebook Unruled 120...', 'ThePaper9Store 6 cm Manga stickers for Laptop, Phone Ca...', 'ComicSense One Piece Anime Wanted Posters A5 Note Book ...', 'ComicSense tachi Sacrifice Naruto Anime A5 Note Book Bl...', 'ThePaper9Store 6 cm Demon Slayer stickers Laptop, Phone...', 'ComicSense Demon Slayer Anime Thunder Breathing A5 Note...', 'ComicSense Jujutsu Kaisen Anime Strongest Sorcerer Sket...', 'Spy X Family Anime Photocards ( Set of 12 + 4 Freebies ...', 'ComicSense One Piece Anime Crossroads of Six Paths Sket...', 'ComicSense Uzumaki vs Uchiha Naruto Anime A5 Note Book ...', 'bosig Jump Style 3D Backpack 16Inch 2D Drawing Anime Co...', 'ThePaper9Store 6 cm Bleach sticker Laptop, Phone Case, ...', 'Jujutsu Kaisen: The Official Anime Guide: Season 1', 'The Art of Demon Slayer: Kimetsu no Yaiba the Anime', 'KT Mart Jump Style 3D Backpack 16Inch 2D Drawing Anime ...', 'Naruto Anime Concept Photo cards ( Set of 15 + 1 Freebi...', 'ComicSense My Hero Academia Anime Heroes & Villains Ske...', 'ThePaper9Store 6 cm Tokyo revengers sticker Laptop, Pho...', 'ComicSense Kimi no Na wa Anime Sketchbook A5 Notebook U...', 'ComicSense One Piece Anime Gear 5th Bounty Sketchbook A...', 'ThePaper9Store 6 cm Jujutsu Kaisen stickers Laptop, Pho...', 'Synthiglow 42 Pcs Sketching and Drawing Kit for Artists...', 'ThePaper9Store 6 cm Naruto stickers Laptop, Phone Case,...', 'ThePaper9Store 6 cm One piece stickers Laptop, Phone Ca...', 'ThePaper9Store 6 cm Chainsaw man sticker Laptop, Phone ...', 'PurpleBees ONE PIECE LUFFY COMIC STYLE Diary A5 Diary U...', 'Bleach Anime Members Photo cards ( Set of 14 + 2 Freebi...', 'ATRI 2 inch Angel or demon, Dark night rose, Sweet cool...', 'ComicSense One Piece Anime Thousand Sunny Dream Sketchb...', 'craft maniacs A5 NOTEBOOK + KEYCHAIN COLLECTION A5 Note...', 'craft maniacs A5 NOTEBOOK + KEYCHAIN COLLECTION A5 Note...', 'craft maniacs 2023 jujutsu DIARY + KEYCHAIN A5 Notebook...', 'craft maniacs ANIME SPECIAL NOTEBOOKS A5 Note Book RULE...', 'craft maniacs ANIME SPECIAL NOTEBOOKS A5 Note Book RULE...', 'Osamu Tezuka: Anime & Manga Character Sketchbook', 'Jujutsu Kaisen, Vol. 4: Volume 4 - Anime Books, Jujuts...', 'Demon Slayer: Kimetsu No Yaiba, Vol. 1,2,3,4 Combo Set', 'Drawing Anime Faces and Feelings', 'Chainsaw Man Complete Box Set: Vol.1 To 11', 'Master Guide to Drawing Anime, The: Romance', 'Fairy Tales of Remnant', 'Anime Art Class: Volume 4', 'The Master Guide to Drawing Anime: Volume 1', \"The Beginner's Guide to Anime and Manga\", 'RWBY Roman Holiday', 'Anime Tarot Deck and Guidebook', 'Cook Anime', 'How to Draw Anime and Game Characters: v. 1', 'Anime & Manga Digital Coloring Guide', 'The Master Guide to Drawing Anime: Amazing Girls', 'Big Book of Drawing Anime, The', 'How To Be A Professional Anime Artist', 'Anime Impact', 'Fluent Japanese From Anime and Manga', 'The Anime Encyclopedia, 3rd Revised Edition', 'Anime Explosion!', 'Anime Cooking', 'My Dress-Up Darling Official Anime Fanbook', 'How to Draw Digital Manga and Anime', 'Manga & Anime Digital Illustration Guide', 'From Impressionism to Anime', 'From Impressionism to Anime', 'Fruits Basket: Complete Anime Natsuki Takaya Illustrati...', 'Understanding Manga and Anime', 'Overlord: The Complete Anime Artbook', 'Overlord: The Complete Anime Artbook II III', 'Attack On Titan: The Anime Guide', 'Design Your Own Anime and Manga Characters', 'Draw & Color Anime Kit', 'Anime Art Class Sketchbook', 'Drawing and Painting Anime and Manga Faces', 'BLEACH: The Official Anime Coloring Book', 'RINKON Anime Notebook Deathnote PACK 2 Comics Death not...', 'RINKON Anime Naruto Notebook Set A5 Size 160 Pages Unru...', 'Sketching from the Imagination: Anime & Manga', 'ComicSense Deathnote Book A5 Note Book 144 Pages', 'ComicSense Death Note Anime Sketchbook A5 Notebook Unru...', 'ThePaper9Store 6 cm Mix anime stickers Laptop, Phone Ca...', 'Original Mart Jump Style 3D Backpack 16Inch 2D Drawing ...', 'Tokyo Revengers Anime Members Photo cards ( Set of 14 +...', 'ComicSense Jujutsu Kaisen Anime A5 Notebook Unruled 120...', 'ThePaper9Store 6 cm Manga stickers for Laptop, Phone Ca...', 'ComicSense One Piece Anime Wanted Posters A5 Note Book ...', 'ComicSense tachi Sacrifice Naruto Anime A5 Note Book Bl...', 'ThePaper9Store 6 cm Demon Slayer stickers Laptop, Phone...', 'ComicSense Demon Slayer Anime Thunder Breathing A5 Note...', 'ComicSense Jujutsu Kaisen Anime Strongest Sorcerer Sket...', 'Spy X Family Anime Photocards ( Set of 12 + 4 Freebies ...', 'ComicSense One Piece Anime Crossroads of Six Paths Sket...', 'ComicSense Uzumaki vs Uchiha Naruto Anime A5 Note Book ...', 'bosig Jump Style 3D Backpack 16Inch 2D Drawing Anime Co...', 'ThePaper9Store 6 cm Bleach sticker Laptop, Phone Case, ...', 'Jujutsu Kaisen: The Official Anime Guide: Season 1', 'The Art of Demon Slayer: Kimetsu no Yaiba the Anime', 'KT Mart Jump Style 3D Backpack 16Inch 2D Drawing Anime ...', 'Naruto Anime Concept Photo cards ( Set of 15 + 1 Freebi...', 'ComicSense My Hero Academia Anime Heroes & Villains Ske...', 'ThePaper9Store 6 cm Tokyo revengers sticker Laptop, Pho...', 'ComicSense Kimi no Na wa Anime Sketchbook A5 Notebook U...', 'ComicSense One Piece Anime Gear 5th Bounty Sketchbook A...', 'ThePaper9Store 6 cm Jujutsu Kaisen stickers Laptop, Pho...', 'Synthiglow 42 Pcs Sketching and Drawing Kit for Artists...', 'ThePaper9Store 6 cm Naruto stickers Laptop, Phone Case,...', 'ThePaper9Store 6 cm One piece stickers Laptop, Phone Ca...', 'ThePaper9Store 6 cm Chainsaw man sticker Laptop, Phone ...', 'PurpleBees ONE PIECE LUFFY COMIC STYLE Diary A5 Diary U...', 'Bleach Anime Members Photo cards ( Set of 14 + 2 Freebi...', 'ATRI 2 inch Angel or demon, Dark night rose, Sweet cool...', 'ComicSense One Piece Anime Thousand Sunny Dream Sketchb...', 'craft maniacs A5 NOTEBOOK + KEYCHAIN COLLECTION A5 Note...', 'craft maniacs A5 NOTEBOOK + KEYCHAIN COLLECTION A5 Note...', 'craft maniacs 2023 jujutsu DIARY + KEYCHAIN A5 Notebook...', 'craft maniacs ANIME SPECIAL NOTEBOOKS A5 Note Book RULE...', 'craft maniacs ANIME SPECIAL NOTEBOOKS A5 Note Book RULE...', 'Osamu Tezuka: Anime & Manga Character Sketchbook', 'Jujutsu Kaisen, Vol. 4: Volume 4 - Anime Books, Jujuts...', 'Demon Slayer: Kimetsu No Yaiba, Vol. 1,2,3,4 Combo Set', 'Drawing Anime Faces and Feelings', 'Chainsaw Man Complete Box Set: Vol.1 To 11', 'Master Guide to Drawing Anime, The: Romance', 'Fairy Tales of Remnant', 'Anime Art Class: Volume 4', 'The Master Guide to Drawing Anime: Volume 1', \"The Beginner's Guide to Anime and Manga\", 'RWBY Roman Holiday', 'Anime Tarot Deck and Guidebook', 'Cook Anime', 'How to Draw Anime and Game Characters: v. 1', 'Anime & Manga Digital Coloring Guide', 'The Master Guide to Drawing Anime: Amazing Girls', 'Big Book of Drawing Anime, The', 'How To Be A Professional Anime Artist', 'Anime Impact', 'Fluent Japanese From Anime and Manga', 'The Anime Encyclopedia, 3rd Revised Edition', 'Anime Explosion!', 'Anime Cooking', 'My Dress-Up Darling Official Anime Fanbook', 'How to Draw Digital Manga and Anime', 'Manga & Anime Digital Illustration Guide', 'From Impressionism to Anime', 'From Impressionism to Anime', 'Fruits Basket: Complete Anime Natsuki Takaya Illustrati...', 'Understanding Manga and Anime', 'Overlord: The Complete Anime Artbook', 'Overlord: The Complete Anime Artbook II III', 'Attack On Titan: The Anime Guide', 'Design Your Own Anime and Manga Characters', 'Draw & Color Anime Kit', 'Anime Art Class Sketchbook', 'Drawing and Painting Anime and Manga Faces', 'BLEACH: The Official Anime Coloring Book', 'RINKON Anime Notebook Deathnote PACK 2 Comics Death not...', 'RINKON Anime Naruto Notebook Set A5 Size 160 Pages Unru...', 'Sketching from the Imagination: Anime & Manga', 'ComicSense Deathnote Book A5 Note Book 144 Pages', 'ComicSense Death Note Anime Sketchbook A5 Notebook Unru...', 'ThePaper9Store 6 cm Mix anime stickers Laptop, Phone Ca...', 'Original Mart Jump Style 3D Backpack 16Inch 2D Drawing ...', 'Tokyo Revengers Anime Members Photo cards ( Set of 14 +...', 'ComicSense Jujutsu Kaisen Anime A5 Notebook Unruled 120...', 'ThePaper9Store 6 cm Manga stickers for Laptop, Phone Ca...', 'ComicSense One Piece Anime Wanted Posters A5 Note Book ...', 'ComicSense tachi Sacrifice Naruto Anime A5 Note Book Bl...', 'ThePaper9Store 6 cm Demon Slayer stickers Laptop, Phone...', 'ComicSense Demon Slayer Anime Thunder Breathing A5 Note...', 'ComicSense Jujutsu Kaisen Anime Strongest Sorcerer Sket...', 'Spy X Family Anime Photocards ( Set of 12 + 4 Freebies ...', 'ComicSense One Piece Anime Crossroads of Six Paths Sket...', 'ComicSense Uzumaki vs Uchiha Naruto Anime A5 Note Book ...', 'bosig Jump Style 3D Backpack 16Inch 2D Drawing Anime Co...', 'ThePaper9Store 6 cm Bleach sticker Laptop, Phone Case, ...', 'Jujutsu Kaisen: The Official Anime Guide: Season 1', 'The Art of Demon Slayer: Kimetsu no Yaiba the Anime', 'KT Mart Jump Style 3D Backpack 16Inch 2D Drawing Anime ...', 'Naruto Anime Concept Photo cards ( Set of 15 + 1 Freebi...', 'ComicSense My Hero Academia Anime Heroes & Villains Ske...', 'ThePaper9Store 6 cm Tokyo revengers sticker Laptop, Pho...', 'ComicSense Kimi no Na wa Anime Sketchbook A5 Notebook U...', 'ComicSense One Piece Anime Gear 5th Bounty Sketchbook A...', 'ThePaper9Store 6 cm Jujutsu Kaisen stickers Laptop, Pho...', 'Synthiglow 42 Pcs Sketching and Drawing Kit for Artists...', 'ThePaper9Store 6 cm Naruto stickers Laptop, Phone Case,...', 'ThePaper9Store 6 cm One piece stickers Laptop, Phone Ca...', 'ThePaper9Store 6 cm Chainsaw man sticker Laptop, Phone ...', 'PurpleBees ONE PIECE LUFFY COMIC STYLE Diary A5 Diary U...', 'Bleach Anime Members Photo cards ( Set of 14 + 2 Freebi...', 'ATRI 2 inch Angel or demon, Dark night rose, Sweet cool...', 'ComicSense One Piece Anime Thousand Sunny Dream Sketchb...', 'craft maniacs A5 NOTEBOOK + KEYCHAIN COLLECTION A5 Note...', 'craft maniacs A5 NOTEBOOK + KEYCHAIN COLLECTION A5 Note...', 'craft maniacs 2023 jujutsu DIARY + KEYCHAIN A5 Notebook...', 'craft maniacs ANIME SPECIAL NOTEBOOKS A5 Note Book RULE...', 'craft maniacs ANIME SPECIAL NOTEBOOKS A5 Note Book RULE...', 'Osamu Tezuka: Anime & Manga Character Sketchbook']\n"
     ]
    }
   ],
   "source": [
    "print(products)"
   ]
  },
  {
   "cell_type": "code",
   "execution_count": 73,
   "metadata": {},
   "outputs": [
    {
     "name": "stdout",
     "output_type": "stream",
     "text": [
      "                                               products\n",
      "0     Jujutsu Kaisen, Vol. 4: Volume 4 - Anime Books...\n",
      "1     Demon Slayer: Kimetsu No Yaiba, Vol. 1,2,3,4 C...\n",
      "2                      Drawing Anime Faces and Feelings\n",
      "3            Chainsaw Man Complete Box Set: Vol.1 To 11\n",
      "4           Master Guide to Drawing Anime, The: Romance\n",
      "...                                                 ...\n",
      "1195  craft maniacs A5 NOTEBOOK + KEYCHAIN COLLECTIO...\n",
      "1196  craft maniacs 2023 jujutsu DIARY + KEYCHAIN A5...\n",
      "1197  craft maniacs ANIME SPECIAL NOTEBOOKS A5 Note ...\n",
      "1198  craft maniacs ANIME SPECIAL NOTEBOOKS A5 Note ...\n",
      "1199   Osamu Tezuka: Anime & Manga Character Sketchbook\n",
      "\n",
      "[1200 rows x 1 columns]\n"
     ]
    }
   ],
   "source": [
    "import pandas as pd\n",
    "df=pd.DataFrame({'products':products})\n",
    "print(df)"
   ]
  },
  {
   "cell_type": "code",
   "execution_count": 74,
   "metadata": {},
   "outputs": [
    {
     "data": {
      "application/vnd.microsoft.datawrangler.viewer.v0+json": {
       "columns": [
        {
         "name": "index",
         "rawType": "int64",
         "type": "integer"
        },
        {
         "name": "products",
         "rawType": "object",
         "type": "string"
        }
       ],
       "conversionMethod": "pd.DataFrame",
       "ref": "00a8cdcf-8291-4295-b3a3-bb95288f9c05",
       "rows": [
        [
         "0",
         "Jujutsu Kaisen, Vol. 4: Volume 4 - Anime Books, Jujuts..."
        ],
        [
         "1",
         "Demon Slayer: Kimetsu No Yaiba, Vol. 1,2,3,4 Combo Set"
        ],
        [
         "2",
         "Drawing Anime Faces and Feelings"
        ],
        [
         "3",
         "Chainsaw Man Complete Box Set: Vol.1 To 11"
        ],
        [
         "4",
         "Master Guide to Drawing Anime, The: Romance"
        ],
        [
         "5",
         "Fairy Tales of Remnant"
        ],
        [
         "6",
         "Anime Art Class: Volume 4"
        ],
        [
         "7",
         "The Master Guide to Drawing Anime: Volume 1"
        ],
        [
         "8",
         "The Beginner's Guide to Anime and Manga"
        ],
        [
         "9",
         "RWBY Roman Holiday"
        ],
        [
         "10",
         "Anime Tarot Deck and Guidebook"
        ],
        [
         "11",
         "Cook Anime"
        ],
        [
         "12",
         "How to Draw Anime and Game Characters: v. 1"
        ],
        [
         "13",
         "Anime & Manga Digital Coloring Guide"
        ],
        [
         "14",
         "The Master Guide to Drawing Anime: Amazing Girls"
        ],
        [
         "15",
         "Big Book of Drawing Anime, The"
        ],
        [
         "16",
         "How To Be A Professional Anime Artist"
        ],
        [
         "17",
         "Anime Impact"
        ],
        [
         "18",
         "Fluent Japanese From Anime and Manga"
        ],
        [
         "19",
         "The Anime Encyclopedia, 3rd Revised Edition"
        ],
        [
         "20",
         "Anime Explosion!"
        ],
        [
         "21",
         "Anime Cooking"
        ],
        [
         "22",
         "My Dress-Up Darling Official Anime Fanbook"
        ],
        [
         "23",
         "How to Draw Digital Manga and Anime"
        ],
        [
         "24",
         "Manga & Anime Digital Illustration Guide"
        ],
        [
         "25",
         "From Impressionism to Anime"
        ],
        [
         "26",
         "From Impressionism to Anime"
        ],
        [
         "27",
         "Fruits Basket: Complete Anime Natsuki Takaya Illustrati..."
        ],
        [
         "28",
         "Overlord: The Complete Anime Artbook"
        ],
        [
         "29",
         "Overlord: The Complete Anime Artbook II III"
        ],
        [
         "30",
         "Attack On Titan: The Anime Guide"
        ],
        [
         "31",
         "Design Your Own Anime and Manga Characters"
        ],
        [
         "32",
         "Draw & Color Anime Kit"
        ],
        [
         "33",
         "Anime Art Class Sketchbook"
        ],
        [
         "34",
         "Drawing and Painting Anime and Manga Faces"
        ],
        [
         "35",
         "Understanding Manga and Anime"
        ],
        [
         "36",
         "BLEACH: The Official Anime Coloring Book"
        ],
        [
         "37",
         "RINKON Anime Notebook Deathnote PACK 2 Comics Death not..."
        ],
        [
         "38",
         "RINKON Anime Naruto Notebook Set A5 Size 160 Pages Unru..."
        ],
        [
         "39",
         "Sketching from the Imagination: Anime & Manga"
        ],
        [
         "40",
         "ComicSense Deathnote Book A5 Note Book 144 Pages"
        ],
        [
         "41",
         "ComicSense Death Note Anime Sketchbook A5 Notebook Unru..."
        ],
        [
         "42",
         "ThePaper9Store 6 cm Mix anime stickers Laptop, Phone Ca..."
        ],
        [
         "43",
         "Original Mart Jump Style 3D Backpack 16Inch 2D Drawing ..."
        ],
        [
         "44",
         "Tokyo Revengers Anime Members Photo cards ( Set of 14 +..."
        ],
        [
         "45",
         "ComicSense Jujutsu Kaisen Anime A5 Notebook Unruled 120..."
        ],
        [
         "46",
         "ThePaper9Store 6 cm Manga stickers for Laptop, Phone Ca..."
        ],
        [
         "47",
         "ComicSense One Piece Anime Wanted Posters A5 Note Book ..."
        ],
        [
         "48",
         "ComicSense tachi Sacrifice Naruto Anime A5 Note Book Bl..."
        ],
        [
         "49",
         "ThePaper9Store 6 cm Demon Slayer stickers Laptop, Phone..."
        ]
       ],
       "shape": {
        "columns": 1,
        "rows": 1200
       }
      },
      "text/html": [
       "<div>\n",
       "<style scoped>\n",
       "    .dataframe tbody tr th:only-of-type {\n",
       "        vertical-align: middle;\n",
       "    }\n",
       "\n",
       "    .dataframe tbody tr th {\n",
       "        vertical-align: top;\n",
       "    }\n",
       "\n",
       "    .dataframe thead th {\n",
       "        text-align: right;\n",
       "    }\n",
       "</style>\n",
       "<table border=\"1\" class=\"dataframe\">\n",
       "  <thead>\n",
       "    <tr style=\"text-align: right;\">\n",
       "      <th></th>\n",
       "      <th>products</th>\n",
       "    </tr>\n",
       "  </thead>\n",
       "  <tbody>\n",
       "    <tr>\n",
       "      <th>0</th>\n",
       "      <td>Jujutsu Kaisen, Vol. 4: Volume 4 - Anime Books...</td>\n",
       "    </tr>\n",
       "    <tr>\n",
       "      <th>1</th>\n",
       "      <td>Demon Slayer: Kimetsu No Yaiba, Vol. 1,2,3,4 C...</td>\n",
       "    </tr>\n",
       "    <tr>\n",
       "      <th>2</th>\n",
       "      <td>Drawing Anime Faces and Feelings</td>\n",
       "    </tr>\n",
       "    <tr>\n",
       "      <th>3</th>\n",
       "      <td>Chainsaw Man Complete Box Set: Vol.1 To 11</td>\n",
       "    </tr>\n",
       "    <tr>\n",
       "      <th>4</th>\n",
       "      <td>Master Guide to Drawing Anime, The: Romance</td>\n",
       "    </tr>\n",
       "    <tr>\n",
       "      <th>...</th>\n",
       "      <td>...</td>\n",
       "    </tr>\n",
       "    <tr>\n",
       "      <th>1195</th>\n",
       "      <td>craft maniacs A5 NOTEBOOK + KEYCHAIN COLLECTIO...</td>\n",
       "    </tr>\n",
       "    <tr>\n",
       "      <th>1196</th>\n",
       "      <td>craft maniacs 2023 jujutsu DIARY + KEYCHAIN A5...</td>\n",
       "    </tr>\n",
       "    <tr>\n",
       "      <th>1197</th>\n",
       "      <td>craft maniacs ANIME SPECIAL NOTEBOOKS A5 Note ...</td>\n",
       "    </tr>\n",
       "    <tr>\n",
       "      <th>1198</th>\n",
       "      <td>craft maniacs ANIME SPECIAL NOTEBOOKS A5 Note ...</td>\n",
       "    </tr>\n",
       "    <tr>\n",
       "      <th>1199</th>\n",
       "      <td>Osamu Tezuka: Anime &amp; Manga Character Sketchbook</td>\n",
       "    </tr>\n",
       "  </tbody>\n",
       "</table>\n",
       "<p>1200 rows × 1 columns</p>\n",
       "</div>"
      ],
      "text/plain": [
       "                                               products\n",
       "0     Jujutsu Kaisen, Vol. 4: Volume 4 - Anime Books...\n",
       "1     Demon Slayer: Kimetsu No Yaiba, Vol. 1,2,3,4 C...\n",
       "2                      Drawing Anime Faces and Feelings\n",
       "3            Chainsaw Man Complete Box Set: Vol.1 To 11\n",
       "4           Master Guide to Drawing Anime, The: Romance\n",
       "...                                                 ...\n",
       "1195  craft maniacs A5 NOTEBOOK + KEYCHAIN COLLECTIO...\n",
       "1196  craft maniacs 2023 jujutsu DIARY + KEYCHAIN A5...\n",
       "1197  craft maniacs ANIME SPECIAL NOTEBOOKS A5 Note ...\n",
       "1198  craft maniacs ANIME SPECIAL NOTEBOOKS A5 Note ...\n",
       "1199   Osamu Tezuka: Anime & Manga Character Sketchbook\n",
       "\n",
       "[1200 rows x 1 columns]"
      ]
     },
     "execution_count": 74,
     "metadata": {},
     "output_type": "execute_result"
    }
   ],
   "source": [
    "df"
   ]
  }
 ],
 "metadata": {
  "kernelspec": {
   "display_name": "base",
   "language": "python",
   "name": "python3"
  },
  "language_info": {
   "codemirror_mode": {
    "name": "ipython",
    "version": 3
   },
   "file_extension": ".py",
   "mimetype": "text/x-python",
   "name": "python",
   "nbconvert_exporter": "python",
   "pygments_lexer": "ipython3",
   "version": "3.11.7"
  }
 },
 "nbformat": 4,
 "nbformat_minor": 2
}
