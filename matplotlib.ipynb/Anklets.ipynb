{
 "cells": [
  {
   "cell_type": "code",
   "execution_count": 36,
   "metadata": {},
   "outputs": [],
   "source": [
    "import requests\n",
    "from bs4 import BeautifulSoup\n",
    "import pandas as pd\n",
    "\n",
    "titles_list = []\n",
    "prices_list = []\n",
    "\n",
    "for page in range (1,100):\n",
    "  url = f\"https://www.ebay.co.uk/b/bn_1841812?page={page}\"\n",
    "  response = requests.get (url)\n",
    "  soup = BeautifulSoup (response.text,'lxml')\n",
    "\n",
    "  titles = soup.find_all ('h3',class_='textual-display bsig__title__text')\n",
    "  for title in titles:\n",
    "    titles_list.append(title.text.strip())\n",
    "\n",
    "  prices = soup.find_all ('span',class_='textual-display bsig__price bsig__price--displayprice')\n",
    "  for price in prices:\n",
    "    prices_list.append(price.text.strip())"
   ]
  },
  {
   "cell_type": "code",
   "execution_count": 37,
   "metadata": {},
   "outputs": [
    {
     "name": "stdout",
     "output_type": "stream",
     "text": [
      "['Silver Anklet Ladies', 'Sterling Silver 925 Anklet/Extra Long Bracelet 10 Inches With Little Bells!', 'Sterling Silver 925 Red Crystal Anklet/Extra Long Bracelet Fits Up To 8.3/4 Inch', '9CT GOLD LADYS ANKLE CHAIN', 'Heart Link Sterling Silver Anklet Extra Large Ankle Chain 8.5\\' - 12.5\" Plus Size', 'Real 925 Sterling Silver Ankle Bracelet Anklet Beaded Simple Dainty Minimalist', 'Twisted Belcher Sterling Silver Anklet - Extra Large Ankle Chain 8.5\\' - 12.5\"', 'Genuine Baltic Amber Small to Large Bracelet/Anklet Knotted Beads Sizes 14-27 cm', 'Magnetic pure copper anklet with 23 high quality magnet, free UK delivery , gift', '9ct Gold Filled Ladies Charm Ankle Bracelet, Thin Belcher Anklet 10\" Length 4mm', 'Snake Ball Sterling Silver Anklet Extra Large Ankle Chain 9.5 -10.5\" Bracelet', 'Chunky Ball Sterling Silver Anklet Extra Large Ankle Chain 8.5\\'- 12.5\" Plus Size', '9ct Solid Gold 2mm Figaro Anklet Size 10 Inch For Women', 'ANKLET solid 925 Sterling Silver  Ankle Bracelet', 'Sterling Silver Solid Curb Anklet Ankle Bracelet - 10 inch - 925 Silver', '9CT YELLOW GOLD 10 inch SOLID BELCHER ANKLET / ANKLE BRACELET - UK HALLMARKED', '925 Sterling Silver Beaded HEART Charm Ankle Bracelet ANKLET 10\" Ladies / Girls', '9CT YELLOW GOLD ON SILVER 10 inch SOLID CURB ANKLET ANKLE BRACELET', '9ct Yellow Gold 10.5 inch Curb Ankle Bracelet / Anklet - UK HALLMARKED', '9ct Yellow Gold 10.5 inch Ankle Bracelet DOUBLE CURB - Solid 9ct Gold Hallmarked', '9ct Yellow Gold Oval Belcher Ankle Bracelet Anklet - 10.5 inch', '9ct Yellow Gold on Silver Beaded Ankle Bracelet / Anklet', '9ct 9k Yellow Gold Plated Belcher Ankle Chain Anklet . All Sizes W=7mm', 'SOLID SILVER ANKLE CHAIN, embedded balls *NEW* Sturdy *.925 silver* 27cm (10.5\")', 'SOLID SILVER ANKLE CHAIN *DOUBLE HEARTS* new *.925 silver* 29.5cm (11.5\")', 'WHOLESALE 925 STAMPED SILVER FOUR LEAF CLOVER ANKLET/BRACELET AND FREE GIFTBOX.', '9ct Gold Guilded Womens Cz Charm Ankle Bracelet, 6mm Belcher Anklet 10\" Length', '2 Pc 925 Silver Evil Eye Protection Anklet For Feet, Amulet Nazariya, Adjustable', '2 Pc 925 Silver Evil Eye Protection Bracelet 5 \" Amulet Nazariya Kids Infants F', '10\" Diamond Cut Fox Braided Link Anklet Bracelet Chain Real 14K Yellow Gold 4gr', '2 Pc 925 Silver Evil Eye Protection Anklet, 9\" Amulet Nazariya Black Bead', 'Sterling Silver Star Drop Anklet', 'WHOLESALE 925 STAMPED SILVER FINE SHELL SHAPED ANKLET/BRACELET & FREE GIFTBOX.', '9K Yellow Gold Curb Link Anklet / Bracelet 23cm Long', \"Sparkly 9ct Yellow Gold Anklet 9K Solid Gold 1mm Shiny Chain Anklet 7'' to 11''\", 'Genuine 925 Sterling Silver Link of Hearts Anklet', '9ct 9k Yellow Gold Plated Belcher Ankle Chain Anklet Small- Large, All Sizes', 'SOLID SILVER ANKLE CHAIN *Dangly Tear Drops* new *.925 silver* 29.5cm (11.5\")', '2 Pc 925 Silver Evil Eye Protection Anklet, Adjustable Amulet Nazariya For Feet', \"Anklet22-25cm 'Under The Sea' Anklet Featuring A Fish Sterling Silver\", '9ct Yellow Gold 16 Twist Curb Chain Bracelet 23cm/9\" Thin Womens Anklet', 'Anklet 925 Sterling Silver Birthstone Heart + 9.5\" Curb Ankle Chain', \"Sterling Silver Double Layer Star Curb Belcher Chain Anklet 19 - 22cm 8.7''\", '925 Solid Sterling Silver Bead Ball Bracelet or Anklet 3mm Beads Ladies Women', 'Magnetic pure copper anklet with 18 high quality magnet, free UK delivery, gift', '⭐ Anklet 925 Sterling Silver Figaro Link Angle Bracelet 9.5 inches', '9ct Gold Filled Ladies Charm Ankle Bracelet, Thin Belcher Anklet 10\" Length 4mm', 'SOLID SILVER ANKLE CHAIN, dangly flower design *BN* 925 silver chain, stunning!', 'Child Silver S925 Italy Chain Bracelet Or Anklet', '9ct Gold Guilded Ankle Bracelet, Cz Infinity Charm Belcher Anklet 9\" Length, 5mm', 'Sterling Silver Pave Figaro Anklet Size 10 Inch For Women', 'Sterling Silver 1.6mm Snake Chain Bracelet 6.5” | 7.5” | 8.5”- Face Mask', '925 Sterling Silver Tourmaline Anklet Boho Natural Gemstone 10\"', 'Sterling Silver Anklet Hearts Dangling Jangling 9-10 In Long', '925 Sterling Silver Rainbow Moonstone Anklet Bracelet Natural Gemstone Gift', 'Hypoallergenic 18ct 18k Gold Color Ladies Womens Chain Bracelet 17-19cm', '9ct Yellow Gold Anchor Mariner Chain Anklet, 9 inch, Ankle Bracelet', 'Ladies Ankle Bracelet, 9ct Gold Filled Small Charm Belcher Anklet 9\" Length 4mm', 'Sterling Silver Heart Link Anklet', 'Sterling Silver 2mm Square Cobra Anklet Size 10 Inch For Women', 'Silver Anklet Ladies', 'Sterling Silver 925 Anklet/Extra Long Bracelet 10 Inches With Little Bells!', 'Sterling Silver 925 Red Crystal Anklet/Extra Long Bracelet Fits Up To 8.3/4 Inch', '9CT GOLD LADYS ANKLE CHAIN', 'Heart Link Sterling Silver Anklet Extra Large Ankle Chain 8.5\\' - 12.5\" Plus Size', 'Real 925 Sterling Silver Ankle Bracelet Anklet Beaded Simple Dainty Minimalist', 'Twisted Belcher Sterling Silver Anklet - Extra Large Ankle Chain 8.5\\' - 12.5\"', 'Genuine Baltic Amber Small to Large Bracelet/Anklet Knotted Beads Sizes 14-27 cm', 'Magnetic pure copper anklet with 23 high quality magnet, free UK delivery , gift', '9ct Gold Filled Ladies Charm Ankle Bracelet, Thin Belcher Anklet 10\" Length 4mm', 'Snake Ball Sterling Silver Anklet Extra Large Ankle Chain 9.5 -10.5\" Bracelet', 'Chunky Ball Sterling Silver Anklet Extra Large Ankle Chain 8.5\\'- 12.5\" Plus Size', '9ct Solid Gold 2mm Figaro Anklet Size 10 Inch For Women', 'ANKLET solid 925 Sterling Silver  Ankle Bracelet', 'Sterling Silver Solid Curb Anklet Ankle Bracelet - 10 inch - 925 Silver', '9CT YELLOW GOLD 10 inch SOLID BELCHER ANKLET / ANKLE BRACELET - UK HALLMARKED', 'Sterling Silver Diamond Anklet Ankle Bracelet - 9 to 10 inch', '925 Sterling Silver Beaded HEART Charm Ankle Bracelet ANKLET 10\" Ladies / Girls', '9CT YELLOW GOLD ON SILVER 10 inch SOLID CURB ANKLET ANKLE BRACELET', '9ct Yellow Gold 10.5 inch Curb Ankle Bracelet / Anklet - UK HALLMARKED', '9ct Yellow Gold 10.5 inch Ankle Bracelet DOUBLE CURB - Solid 9ct Gold Hallmarked', '9ct Yellow Gold Oval Belcher Ankle Bracelet Anklet - 10.5 inch', '9ct 9k Yellow Gold Plated Belcher Ankle Chain Anklet . All Sizes W=7mm', 'SOLID SILVER ANKLE CHAIN *DOUBLE HEARTS* new *.925 silver* 29.5cm (11.5\")', 'SOLID SILVER ANKLE CHAIN, embedded balls *NEW* Sturdy *.925 silver* 27cm (10.5\")', 'WHOLESALE 925 STAMPED SILVER FINE SHELL SHAPED ANKLET/BRACELET & FREE GIFTBOX.', 'WHOLESALE 925 STAMPED SILVER FOUR LEAF CLOVER ANKLET/BRACELET AND FREE GIFTBOX.', '2 Pc 925 Silver Evil Eye Protection Anklet For Feet, Amulet Nazariya, Adjustable', '2 Pc 925 Silver Evil Eye Protection Bracelet 5 \" Amulet Nazariya Kids Infants F', '10\" Diamond Cut Fox Braided Link Anklet Bracelet Chain Real 14K Yellow Gold 4gr', '2 Pc 925 Silver Evil Eye Protection Anklet, 9\" Amulet Nazariya Black Bead', 'Sterling Silver Star Drop Anklet', '9ct Gold Guilded Womens Cz Charm Ankle Bracelet, 6mm Belcher Anklet 10\" Length', \"Sparkly 9ct Yellow Gold Anklet 9K Solid Gold 1mm Shiny Chain Anklet 7'' to 11''\", '9ct 9k Yellow Gold Plated Belcher Ankle Chain Anklet Small- Large, All Sizes', '9K Yellow Gold Curb Link Anklet / Bracelet 23cm Long', 'Genuine 925 Sterling Silver Link of Hearts Anklet', 'SOLID SILVER ANKLE CHAIN *Dangly Tear Drops* new *.925 silver* 29.5cm (11.5\")', '2 Pc 925 Silver Evil Eye Protection Anklet, Adjustable Amulet Nazariya For Feet', \"Anklet22-25cm 'Under The Sea' Anklet Featuring A Fish Sterling Silver\", \"Sterling Silver Double Layer Star Curb Belcher Chain Anklet 19 - 22cm 8.7''\", '9ct Yellow Gold 16 Twist Curb Chain Bracelet 23cm/9\" Thin Womens Anklet', 'Anklet 925 Sterling Silver Birthstone Heart + 9.5\" Curb Ankle Chain', '925 Solid Sterling Silver Bead Ball Bracelet or Anklet 3mm Beads Ladies Women', 'Sterling Silver 1.6mm Snake Chain Bracelet 6.5” | 7.5” | 8.5”- Face Mask', 'Magnetic pure copper anklet with 18 high quality magnet, free UK delivery, gift', '⭐ Anklet 925 Sterling Silver Figaro Link Angle Bracelet 9.5 inches', 'SOLID SILVER ANKLE CHAIN, dangly flower design *BN* 925 silver chain, stunning!', '9ct Gold Filled Ladies Charm Ankle Bracelet, Thin Belcher Anklet 10\" Length 4mm', 'Child Silver S925 Italy Chain Bracelet Or Anklet', '9ct Gold Guilded Ankle Bracelet, Cz Infinity Charm Belcher Anklet 9\" Length, 5mm', 'Sterling Silver Pave Figaro Anklet Size 10 Inch For Women', 'Hypoallergenic 18ct 18k Gold Color Ladies Womens Chain Bracelet 17-19cm', '925 Sterling Silver Tourmaline Anklet Boho Natural Gemstone 10\"', '925 Sterling Silver Rainbow Moonstone Anklet Bracelet Natural Gemstone Gift', '9ct Yellow Gold Anchor Mariner Chain Anklet, 9 inch, Ankle Bracelet', '9ct Yellow Gold Bracelet & Anklet Set 9K 1.8mm Diamond Cut Trace Chain 7.5\" 10\"', 'Ladies Ankle Bracelet, 9ct Gold Filled Small Charm Belcher Anklet 9\" Length 4mm', 'Sterling Silver Heart Link Anklet', 'Sterling Silver 2mm Square Cobra Anklet Size 10 Inch For Women']\n",
      "['£4.00', '£5.25', '£2.99', '£45.00', '£7.99 to £10.99', '£9.50', '£11.99 to £14.49', '£10.99 to £16.99', '£16.99', '£24.99', '£22.99 to £34.99', '£13.99 to £15.99', '£155.88', '£22.00', '£15.95', '£64.95', '£9.95', '£18.95', '£89.95', '£159.95', '£69.95', '£16.95', '£8.99 to £13.99', '£13.99', '£15.99', '£6.05', '£24.99', '£14.33', '£20.23', '£387.24', '£26.97', '£39.42', '£5.85', '£193.14', '£40.90 to £58.90', '£5.49', '£5.99 to £9.99', '£15.99', '£26.97', '£42.04', '£32.99', '£13.95', '£19.35', '£19.50 to £23.00', '£16.99', '£3.99', '£24.99', '£14.99', '£5.00', '£24.99', '£35.66', '£5.95 to £6.95', '£24.90', '£15.95', '£14.30 to £17.40', '£3.80', '£127.00', '£24.99', '£29.60', '£49.48', '£4.00', '£5.25', '£2.99', '£45.00', '£7.99 to £10.99', '£9.50', '£11.99 to £14.49', '£10.99 to £16.99', '£16.99', '£24.99', '£22.99 to £34.99', '£13.99 to £15.99', '£155.88', '£22.00', '£15.95', '£64.95', '£16.95', '£9.95', '£18.95', '£89.95', '£159.95', '£69.95', '£8.99 to £13.99', '£15.99', '£13.99', '£5.85', '£6.05', '£14.33', '£20.23', '£387.24', '£26.97', '£39.42', '£24.99', '£40.90 to £58.90', '£5.99 to £9.99', '£193.14', '£5.49', '£15.99', '£26.97', '£42.04', '£19.35', '£32.99', '£13.95', '£19.50 to £23.00', '£5.95 to £6.95', '£16.99', '£3.99', '£14.99', '£24.99', '£5.00', '£24.99', '£35.66', '£3.80', '£24.90', '£14.30 to £17.40', '£127.00', '£134.00', '£24.99', '£29.60', '£49.48']\n"
     ]
    }
   ],
   "source": [
    "print(titles_list)\n",
    "print(prices_list)"
   ]
  },
  {
   "cell_type": "code",
   "execution_count": 38,
   "metadata": {},
   "outputs": [
    {
     "name": "stdout",
     "output_type": "stream",
     "text": [
      "120\n",
      "120\n"
     ]
    }
   ],
   "source": [
    "print(len(titles_list))\n",
    "print(len(prices_list))"
   ]
  },
  {
   "cell_type": "code",
   "execution_count": 39,
   "metadata": {},
   "outputs": [
    {
     "name": "stdout",
     "output_type": "stream",
     "text": [
      "                                                Titles            Value\n",
      "0                                 Silver Anklet Ladies            £4.00\n",
      "1    Sterling Silver 925 Anklet/Extra Long Bracelet...            £5.25\n",
      "2    Sterling Silver 925 Red Crystal Anklet/Extra L...            £2.99\n",
      "3                           9CT GOLD LADYS ANKLE CHAIN           £45.00\n",
      "4    Heart Link Sterling Silver Anklet Extra Large ...  £7.99 to £10.99\n",
      "..                                                 ...              ...\n",
      "115  9ct Yellow Gold Anchor Mariner Chain Anklet, 9...          £127.00\n",
      "116  9ct Yellow Gold Bracelet & Anklet Set 9K 1.8mm...          £134.00\n",
      "117  Ladies Ankle Bracelet, 9ct Gold Filled Small C...           £24.99\n",
      "118                  Sterling Silver Heart Link Anklet           £29.60\n",
      "119  Sterling Silver 2mm Square Cobra Anklet Size 1...           £49.48\n",
      "\n",
      "[120 rows x 2 columns]\n"
     ]
    }
   ],
   "source": [
    "df = pd.DataFrame({'Titles':titles_list,'Value':prices_list})\n",
    "\n",
    "print(df)"
   ]
  },
  {
   "cell_type": "code",
   "execution_count": 40,
   "metadata": {},
   "outputs": [
    {
     "data": {
      "text/html": [
       "<div>\n",
       "<style scoped>\n",
       "    .dataframe tbody tr th:only-of-type {\n",
       "        vertical-align: middle;\n",
       "    }\n",
       "\n",
       "    .dataframe tbody tr th {\n",
       "        vertical-align: top;\n",
       "    }\n",
       "\n",
       "    .dataframe thead th {\n",
       "        text-align: right;\n",
       "    }\n",
       "</style>\n",
       "<table border=\"1\" class=\"dataframe\">\n",
       "  <thead>\n",
       "    <tr style=\"text-align: right;\">\n",
       "      <th></th>\n",
       "      <th>Titles</th>\n",
       "      <th>Value</th>\n",
       "    </tr>\n",
       "  </thead>\n",
       "  <tbody>\n",
       "    <tr>\n",
       "      <th>0</th>\n",
       "      <td>Silver Anklet Ladies</td>\n",
       "      <td>£4.00</td>\n",
       "    </tr>\n",
       "    <tr>\n",
       "      <th>1</th>\n",
       "      <td>Sterling Silver 925 Anklet/Extra Long Bracelet...</td>\n",
       "      <td>£5.25</td>\n",
       "    </tr>\n",
       "    <tr>\n",
       "      <th>2</th>\n",
       "      <td>Sterling Silver 925 Red Crystal Anklet/Extra L...</td>\n",
       "      <td>£2.99</td>\n",
       "    </tr>\n",
       "    <tr>\n",
       "      <th>3</th>\n",
       "      <td>9CT GOLD LADYS ANKLE CHAIN</td>\n",
       "      <td>£45.00</td>\n",
       "    </tr>\n",
       "    <tr>\n",
       "      <th>4</th>\n",
       "      <td>Heart Link Sterling Silver Anklet Extra Large ...</td>\n",
       "      <td>£7.99 to £10.99</td>\n",
       "    </tr>\n",
       "    <tr>\n",
       "      <th>...</th>\n",
       "      <td>...</td>\n",
       "      <td>...</td>\n",
       "    </tr>\n",
       "    <tr>\n",
       "      <th>115</th>\n",
       "      <td>9ct Yellow Gold Anchor Mariner Chain Anklet, 9...</td>\n",
       "      <td>£127.00</td>\n",
       "    </tr>\n",
       "    <tr>\n",
       "      <th>116</th>\n",
       "      <td>9ct Yellow Gold Bracelet &amp; Anklet Set 9K 1.8mm...</td>\n",
       "      <td>£134.00</td>\n",
       "    </tr>\n",
       "    <tr>\n",
       "      <th>117</th>\n",
       "      <td>Ladies Ankle Bracelet, 9ct Gold Filled Small C...</td>\n",
       "      <td>£24.99</td>\n",
       "    </tr>\n",
       "    <tr>\n",
       "      <th>118</th>\n",
       "      <td>Sterling Silver Heart Link Anklet</td>\n",
       "      <td>£29.60</td>\n",
       "    </tr>\n",
       "    <tr>\n",
       "      <th>119</th>\n",
       "      <td>Sterling Silver 2mm Square Cobra Anklet Size 1...</td>\n",
       "      <td>£49.48</td>\n",
       "    </tr>\n",
       "  </tbody>\n",
       "</table>\n",
       "<p>120 rows × 2 columns</p>\n",
       "</div>"
      ],
      "text/plain": [
       "                                                Titles            Value\n",
       "0                                 Silver Anklet Ladies            £4.00\n",
       "1    Sterling Silver 925 Anklet/Extra Long Bracelet...            £5.25\n",
       "2    Sterling Silver 925 Red Crystal Anklet/Extra L...            £2.99\n",
       "3                           9CT GOLD LADYS ANKLE CHAIN           £45.00\n",
       "4    Heart Link Sterling Silver Anklet Extra Large ...  £7.99 to £10.99\n",
       "..                                                 ...              ...\n",
       "115  9ct Yellow Gold Anchor Mariner Chain Anklet, 9...          £127.00\n",
       "116  9ct Yellow Gold Bracelet & Anklet Set 9K 1.8mm...          £134.00\n",
       "117  Ladies Ankle Bracelet, 9ct Gold Filled Small C...           £24.99\n",
       "118                  Sterling Silver Heart Link Anklet           £29.60\n",
       "119  Sterling Silver 2mm Square Cobra Anklet Size 1...           £49.48\n",
       "\n",
       "[120 rows x 2 columns]"
      ]
     },
     "execution_count": 40,
     "metadata": {},
     "output_type": "execute_result"
    }
   ],
   "source": [
    "df"
   ]
  },
  {
   "cell_type": "code",
   "execution_count": 41,
   "metadata": {},
   "outputs": [],
   "source": [
    "df.to_csv (r\"C:\\Users\\Administrator\\OneDrive\\Documents\\Projects\\Anklet jewlery.csv\",index=False)"
   ]
  }
 ],
 "metadata": {
  "kernelspec": {
   "display_name": "base",
   "language": "python",
   "name": "python3"
  },
  "language_info": {
   "codemirror_mode": {
    "name": "ipython",
    "version": 3
   },
   "file_extension": ".py",
   "mimetype": "text/x-python",
   "name": "python",
   "nbconvert_exporter": "python",
   "pygments_lexer": "ipython3",
   "version": "3.11.7"
  }
 },
 "nbformat": 4,
 "nbformat_minor": 2
}
